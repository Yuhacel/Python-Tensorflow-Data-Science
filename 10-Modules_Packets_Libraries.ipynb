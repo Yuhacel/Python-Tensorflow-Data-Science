{
 "cells": [
  {
   "cell_type": "code",
   "execution_count": 18,
   "id": "87827a0a",
   "metadata": {},
   "outputs": [],
   "source": [
    "import numpy as np                    ## creating data\n",
    "import matplotlib.pyplot as matplot   ## visualizing data"
   ]
  },
  {
   "cell_type": "code",
   "execution_count": 19,
   "id": "f90b02ff",
   "metadata": {},
   "outputs": [
    {
     "data": {
      "text/plain": [
       "4008.041474686084"
      ]
     },
     "execution_count": 19,
     "metadata": {},
     "output_type": "execute_result"
    }
   ],
   "source": [
    "moneyList = numpy.random.normal(4000,500,1000)\n",
    "numpy.mean(moneyList)"
   ]
  },
  {
   "cell_type": "code",
   "execution_count": 20,
   "id": "4dbeeab5",
   "metadata": {},
   "outputs": [
    {
     "data": {
      "image/png": "[encoded data removed]",
      "text/plain": [
       "<Figure size 432x288 with 1 Axes>"
      ]
     },
     "metadata": {
      "needs_background": "light"
     },
     "output_type": "display_data"
    }
   ],
   "source": [
    "matplot.hist(moneyList,50)\n",
    "matplot.show()"
   ]
  },
  {
   "cell_type": "markdown",
   "id": "7b8cedfb",
   "metadata": {},
   "source": [
    "# MODULES"
   ]
  },
  {
   "cell_type": "code",
   "execution_count": null,
   "id": "86bb8d4b",
   "metadata": {},
   "outputs": [],
   "source": []
  },
  {
   "cell_type": "code",
   "execution_count": null,
   "id": "87c4028e",
   "metadata": {},
   "outputs": [],
   "source": []
  },
  {
   "cell_type": "code",
   "execution_count": null,
   "id": "ab1733c1",
   "metadata": {},
   "outputs": [],
   "source": []
  }
 ],
 "metadata": {
  "kernelspec": {
   "display_name": "Python 3 (ipykernel)",
   "language": "python",
   "name": "python3"
  },
  "language_info": {
   "codemirror_mode": {
    "name": "ipython",
    "version": 3
   },
   "file_extension": ".py",
   "mimetype": "text/x-python",
   "name": "python",
   "nbconvert_exporter": "python",
   "pygments_lexer": "ipython3",
   "version": "3.9.12"
  }
 },
 "nbformat": 4,
 "nbformat_minor": 5
}
