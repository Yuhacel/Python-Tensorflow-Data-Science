{
 "cells": [
  {
   "cell_type": "markdown",
   "id": "037a9f3f",
   "metadata": {},
   "source": [
    "## Slicing\n",
    "## String Methods\n",
    "## Lists\n",
    "## List Methods\n",
    "## Dictionaries\n",
    "## Dictionary Methods\n",
    "## Set\n",
    "## Tuple\n",
    "## While Loop\n",
    "## .Format Method"
   ]
  },
  {
   "cell_type": "markdown",
   "id": "5b527a32",
   "metadata": {},
   "source": [
    "# SLICING"
   ]
  },
  {
   "cell_type": "code",
   "execution_count": 29,
   "id": "d01d11c7",
   "metadata": {},
   "outputs": [
    {
     "data": {
      "text/plain": [
       "'t'"
      ]
     },
     "execution_count": 29,
     "metadata": {},
     "output_type": "execute_result"
    }
   ],
   "source": [
    "niceString = \"niceString\"\n",
    "niceString[5]"
   ]
  },
  {
   "cell_type": "code",
   "execution_count": 30,
   "id": "5f3d48e7",
   "metadata": {},
   "outputs": [
    {
     "data": {
      "text/plain": [
       "'niceString'"
      ]
     },
     "execution_count": 30,
     "metadata": {},
     "output_type": "execute_result"
    }
   ],
   "source": [
    "niceString[::]"
   ]
  },
  {
   "cell_type": "code",
   "execution_count": 38,
   "id": "f4651feb",
   "metadata": {},
   "outputs": [
    {
     "data": {
      "text/plain": [
       "'ieti'"
      ]
     },
     "execution_count": 38,
     "metadata": {},
     "output_type": "execute_result"
    }
   ],
   "source": [
    "niceString[1:8:2]  ## step size "
   ]
  },
  {
   "cell_type": "code",
   "execution_count": 39,
   "id": "728301f8",
   "metadata": {},
   "outputs": [
    {
     "data": {
      "text/plain": [
       "'nerg'"
      ]
     },
     "execution_count": 39,
     "metadata": {},
     "output_type": "execute_result"
    }
   ],
   "source": [
    "niceString[::3]"
   ]
  },
  {
   "cell_type": "code",
   "execution_count": 42,
   "id": "1ce58406",
   "metadata": {},
   "outputs": [
    {
     "data": {
      "text/plain": [
       "'gnirtSecin'"
      ]
     },
     "execution_count": 42,
     "metadata": {},
     "output_type": "execute_result"
    }
   ],
   "source": [
    "niceString[::-1]"
   ]
  },
  {
   "cell_type": "code",
   "execution_count": 7,
   "id": "d6d1951a",
   "metadata": {},
   "outputs": [
    {
     "data": {
      "text/plain": [
       "'n'"
      ]
     },
     "execution_count": 7,
     "metadata": {},
     "output_type": "execute_result"
    }
   ],
   "source": [
    "niceString[-2]"
   ]
  },
  {
   "cell_type": "code",
   "execution_count": 8,
   "id": "d7576c2c",
   "metadata": {},
   "outputs": [
    {
     "data": {
      "text/plain": [
       "'ie'"
      ]
     },
     "execution_count": 8,
     "metadata": {},
     "output_type": "execute_result"
    }
   ],
   "source": [
    "niceString[-3] + niceString[3]"
   ]
  },
  {
   "cell_type": "code",
   "execution_count": 9,
   "id": "26f464b9",
   "metadata": {},
   "outputs": [],
   "source": [
    "newString = \"0123456\""
   ]
  },
  {
   "cell_type": "code",
   "execution_count": 10,
   "id": "e9817007",
   "metadata": {},
   "outputs": [
    {
     "data": {
      "text/plain": [
       "'23456'"
      ]
     },
     "execution_count": 10,
     "metadata": {},
     "output_type": "execute_result"
    }
   ],
   "source": [
    "newString[2:]"
   ]
  },
  {
   "cell_type": "code",
   "execution_count": 11,
   "id": "c0c3f9fb",
   "metadata": {},
   "outputs": [
    {
     "data": {
      "text/plain": [
       "'01234'"
      ]
     },
     "execution_count": 11,
     "metadata": {},
     "output_type": "execute_result"
    }
   ],
   "source": [
    "newString[:5]"
   ]
  },
  {
   "cell_type": "code",
   "execution_count": 12,
   "id": "b25c1273",
   "metadata": {},
   "outputs": [
    {
     "data": {
      "text/plain": [
       "'123'"
      ]
     },
     "execution_count": 12,
     "metadata": {},
     "output_type": "execute_result"
    }
   ],
   "source": [
    "newString[1:4]"
   ]
  },
  {
   "cell_type": "code",
   "execution_count": 14,
   "id": "be2dc3c4",
   "metadata": {},
   "outputs": [],
   "source": [
    "EgString = \"example 12345\""
   ]
  },
  {
   "cell_type": "code",
   "execution_count": 20,
   "id": "6a424fd2",
   "metadata": {},
   "outputs": [
    {
     "data": {
      "text/plain": [
       "'ple 1234'"
      ]
     },
     "execution_count": 20,
     "metadata": {},
     "output_type": "execute_result"
    }
   ],
   "source": [
    "EgString[-9:-1]"
   ]
  },
  {
   "cell_type": "code",
   "execution_count": 21,
   "id": "303dafd1",
   "metadata": {},
   "outputs": [
    {
     "data": {
      "text/plain": [
       "'5'"
      ]
     },
     "execution_count": 21,
     "metadata": {},
     "output_type": "execute_result"
    }
   ],
   "source": [
    "EgString[-1:]"
   ]
  },
  {
   "cell_type": "code",
   "execution_count": 22,
   "id": "1cedad66",
   "metadata": {},
   "outputs": [
    {
     "data": {
      "text/plain": [
       "'example 12'"
      ]
     },
     "execution_count": 22,
     "metadata": {},
     "output_type": "execute_result"
    }
   ],
   "source": [
    "EgString[:-3]"
   ]
  },
  {
   "cell_type": "code",
   "execution_count": 28,
   "id": "7f0abf7b",
   "metadata": {},
   "outputs": [
    {
     "data": {
      "text/plain": [
       "'le 1345ice'"
      ]
     },
     "execution_count": 28,
     "metadata": {},
     "output_type": "execute_result"
    }
   ],
   "source": [
    "EgString[-8:-4] + newString[3:6] + niceString[1:4]"
   ]
  },
  {
   "cell_type": "markdown",
   "id": "1965fb5a",
   "metadata": {},
   "source": [
    "# STRING METHODS"
   ]
  },
  {
   "cell_type": "code",
   "execution_count": 48,
   "id": "663f9b03",
   "metadata": {},
   "outputs": [],
   "source": [
    "my_name = \"yuushacel 01\""
   ]
  },
  {
   "cell_type": "code",
   "execution_count": 49,
   "id": "4883e547",
   "metadata": {},
   "outputs": [
    {
     "data": {
      "text/plain": [
       "'Yuushacel 01'"
      ]
     },
     "execution_count": 49,
     "metadata": {},
     "output_type": "execute_result"
    }
   ],
   "source": [
    "my_name.capitalize()"
   ]
  },
  {
   "cell_type": "code",
   "execution_count": 55,
   "id": "c02b1c96",
   "metadata": {},
   "outputs": [
    {
     "data": {
      "text/plain": [
       "['yuushacel', '01']"
      ]
     },
     "execution_count": 55,
     "metadata": {},
     "output_type": "execute_result"
    }
   ],
   "source": [
    "my_name.split()"
   ]
  },
  {
   "cell_type": "code",
   "execution_count": 57,
   "id": "b2c527da",
   "metadata": {},
   "outputs": [
    {
     "data": {
      "text/plain": [
       "'01'"
      ]
     },
     "execution_count": 57,
     "metadata": {},
     "output_type": "execute_result"
    }
   ],
   "source": [
    "bring = my_name.split()\n",
    "bring[1]"
   ]
  },
  {
   "cell_type": "code",
   "execution_count": 58,
   "id": "a6a42828",
   "metadata": {},
   "outputs": [
    {
     "data": {
      "text/plain": [
       "'YUUSHACEL 01'"
      ]
     },
     "execution_count": 58,
     "metadata": {},
     "output_type": "execute_result"
    }
   ],
   "source": [
    "my_name.upper()"
   ]
  },
  {
   "cell_type": "code",
   "execution_count": 59,
   "id": "ff9b0eed",
   "metadata": {},
   "outputs": [
    {
     "data": {
      "text/plain": [
       "'yuushacel 01yuushacel 01yuushacel 01'"
      ]
     },
     "execution_count": 59,
     "metadata": {},
     "output_type": "execute_result"
    }
   ],
   "source": [
    "my_name * 3"
   ]
  },
  {
   "cell_type": "markdown",
   "id": "c43a4d80",
   "metadata": {},
   "source": [
    "## There are more methods, you can check them with \"[name].[tab] \""
   ]
  },
  {
   "cell_type": "markdown",
   "id": "2e90ca5b",
   "metadata": {},
   "source": [
    "# LISTS"
   ]
  },
  {
   "cell_type": "code",
   "execution_count": 74,
   "id": "7e834be0",
   "metadata": {},
   "outputs": [],
   "source": [
    "myList = [1,2,3,4,5]"
   ]
  },
  {
   "cell_type": "code",
   "execution_count": 75,
   "id": "a018b3e5",
   "metadata": {},
   "outputs": [
    {
     "data": {
      "text/plain": [
       "list"
      ]
     },
     "execution_count": 75,
     "metadata": {},
     "output_type": "execute_result"
    }
   ],
   "source": [
    "type(myList)"
   ]
  },
  {
   "cell_type": "code",
   "execution_count": 76,
   "id": "1ce3ce62",
   "metadata": {},
   "outputs": [
    {
     "data": {
      "text/plain": [
       "[1, 2, 60, 4, 5]"
      ]
     },
     "execution_count": 76,
     "metadata": {},
     "output_type": "execute_result"
    }
   ],
   "source": [
    "myList[2] = 60  ## Lists are mutable, you can change members\n",
    "myList"
   ]
  },
  {
   "cell_type": "markdown",
   "id": "b4295af4",
   "metadata": {},
   "source": [
    "# LIST METHODS"
   ]
  },
  {
   "cell_type": "code",
   "execution_count": 77,
   "id": "3a6ff832",
   "metadata": {},
   "outputs": [
    {
     "data": {
      "text/plain": [
       "[1, 2, 60, 4, 5, 80]"
      ]
     },
     "execution_count": 77,
     "metadata": {},
     "output_type": "execute_result"
    }
   ],
   "source": [
    "myList.append(80)\n",
    "myList"
   ]
  },
  {
   "cell_type": "code",
   "execution_count": 78,
   "id": "1db798c1",
   "metadata": {},
   "outputs": [
    {
     "data": {
      "text/plain": [
       "1"
      ]
     },
     "execution_count": 78,
     "metadata": {},
     "output_type": "execute_result"
    }
   ],
   "source": [
    "myList.count(2)"
   ]
  },
  {
   "cell_type": "code",
   "execution_count": 79,
   "id": "7dc6ae86",
   "metadata": {},
   "outputs": [
    {
     "data": {
      "text/plain": [
       "[80, 5, 4, 60, 2, 1]"
      ]
     },
     "execution_count": 79,
     "metadata": {},
     "output_type": "execute_result"
    }
   ],
   "source": [
    "myList.reverse()\n",
    "myList"
   ]
  },
  {
   "cell_type": "code",
   "execution_count": 80,
   "id": "77192b8b",
   "metadata": {},
   "outputs": [
    {
     "data": {
      "text/plain": [
       "[80, 5, 4, 60, 2]"
      ]
     },
     "execution_count": 80,
     "metadata": {},
     "output_type": "execute_result"
    }
   ],
   "source": [
    "myList.pop()\n",
    "myList"
   ]
  },
  {
   "cell_type": "code",
   "execution_count": 81,
   "id": "7bb979e0",
   "metadata": {},
   "outputs": [
    {
     "data": {
      "text/plain": [
       "[80, 5, 60, 2]"
      ]
     },
     "execution_count": 81,
     "metadata": {},
     "output_type": "execute_result"
    }
   ],
   "source": [
    "myList.remove(4)\n",
    "myList"
   ]
  },
  {
   "cell_type": "code",
   "execution_count": 82,
   "id": "220c4fb2",
   "metadata": {},
   "outputs": [
    {
     "ename": "ValueError",
     "evalue": "list.remove(x): x not in list",
     "output_type": "error",
     "traceback": [
      "\u001b[1;31m---------------------------------------------------------------------------\u001b[0m",
      "\u001b[1;31mValueError\u001b[0m                                Traceback (most recent call last)",
      "Input \u001b[1;32mIn [82]\u001b[0m, in \u001b[0;36m<cell line: 1>\u001b[1;34m()\u001b[0m\n\u001b[1;32m----> 1\u001b[0m \u001b[43mmyList\u001b[49m\u001b[38;5;241;43m.\u001b[39;49m\u001b[43mremove\u001b[49m\u001b[43m(\u001b[49m\u001b[38;5;241;43m3\u001b[39;49m\u001b[43m)\u001b[49m\n\u001b[0;32m      2\u001b[0m myList\n",
      "\u001b[1;31mValueError\u001b[0m: list.remove(x): x not in list"
     ]
    }
   ],
   "source": [
    "myList.remove(3)\n",
    "myList"
   ]
  },
  {
   "cell_type": "markdown",
   "id": "a099b592",
   "metadata": {},
   "source": [
    "# ADVANCED LIST"
   ]
  },
  {
   "cell_type": "code",
   "execution_count": 88,
   "id": "dc2f28e9",
   "metadata": {},
   "outputs": [
    {
     "data": {
      "text/plain": [
       "['a', 'b', 'c', 0.6, 1, '2', 3, '4']"
      ]
     },
     "execution_count": 88,
     "metadata": {},
     "output_type": "execute_result"
    }
   ],
   "source": [
    "firstList = [\"a\",\"b\",\"c\", 0.6]\n",
    "secondList = [1,\"2\",3,\"4\"] ## we can use different ones in a single list\n",
    "plusList = firstList + secondList\n",
    "plusList"
   ]
  },
  {
   "cell_type": "code",
   "execution_count": 95,
   "id": "ac92eeff",
   "metadata": {},
   "outputs": [
    {
     "name": "stdout",
     "output_type": "stream",
     "text": [
      "[1, 22, 'ListHere', [42, 'ListNow', 11]]\n",
      "[42, 'ListNow', 11]\n"
     ]
    },
    {
     "data": {
      "text/plain": [
       "list"
      ]
     },
     "execution_count": 95,
     "metadata": {},
     "output_type": "execute_result"
    }
   ],
   "source": [
    "nestedList = [1,22,\"ListHere\",[42,\"ListNow\",11]] ## ATTENTION HERE !\n",
    "print(nestedList)\n",
    "print(nestedList[3])\n",
    "type(nestedList[3])"
   ]
  },
  {
   "cell_type": "code",
   "execution_count": 97,
   "id": "3909614a",
   "metadata": {},
   "outputs": [
    {
     "data": {
      "text/plain": [
       "42"
      ]
     },
     "execution_count": 97,
     "metadata": {},
     "output_type": "execute_result"
    }
   ],
   "source": [
    "a = nestedList[3][0] \n",
    "a"
   ]
  },
  {
   "cell_type": "markdown",
   "id": "90d5956c",
   "metadata": {},
   "source": [
    "# DICTIONARIES"
   ]
  },
  {
   "cell_type": "markdown",
   "id": "41a4a1d6",
   "metadata": {},
   "source": [
    "## key - value pairing"
   ]
  },
  {
   "cell_type": "code",
   "execution_count": 1,
   "id": "d0e0be4f",
   "metadata": {},
   "outputs": [],
   "source": [
    "fruits = [\"apple\",\"watermelon\",\"orange\"]"
   ]
  },
  {
   "cell_type": "code",
   "execution_count": 2,
   "id": "a99573a5",
   "metadata": {},
   "outputs": [],
   "source": [
    "calories = [100,50,125]"
   ]
  },
  {
   "cell_type": "code",
   "execution_count": 10,
   "id": "72f75283",
   "metadata": {},
   "outputs": [
    {
     "name": "stdout",
     "output_type": "stream",
     "text": [
      "100\n",
      "50\n",
      "125\n"
     ]
    }
   ],
   "source": [
    "## key : value \n",
    "myDictionary = {\"apple\" : 100,\"watermelon\" : 50,\"orange\": \"125\"}\n",
    "print(myDictionary[\"apple\"])\n",
    "print(myDictionary[\"watermelon\"])\n",
    "print(myDictionary[\"orange\"])"
   ]
  },
  {
   "cell_type": "code",
   "execution_count": 11,
   "id": "187b375c",
   "metadata": {},
   "outputs": [
    {
     "name": "stdout",
     "output_type": "stream",
     "text": [
      "200\n"
     ]
    }
   ],
   "source": [
    "myDictionary[\"apple\"] = 200  ## we can alter the value of a key in dict\n",
    "print(myDictionary[\"apple\"])"
   ]
  },
  {
   "cell_type": "code",
   "execution_count": 35,
   "id": "7fdd31f5",
   "metadata": {
    "scrolled": true
   },
   "outputs": [
    {
     "name": "stdout",
     "output_type": "stream",
     "text": [
      "<class 'dict'>\n",
      "<class 'str'>\n",
      "<class 'int'>\n",
      "<class 'list'>\n",
      "<class 'dict'>\n",
      "4.1\n",
      "<class 'float'>\n",
      "6\n"
     ]
    }
   ],
   "source": [
    "newDict = {\"key1\":\"wowowo\",\"key2\":10,\"key3\":[9,8,7,6,5],\"key4\":{\"key4.1\":4.1}}\n",
    "\n",
    "print(type(newDict))\n",
    "print(type(newDict[\"key1\"]))\n",
    "print(type(newDict[\"key2\"]))\n",
    "print(type(newDict[\"key3\"]))\n",
    "print(type(newDict[\"key4\"]))\n",
    "\n",
    "print(newDict[\"key4\"][\"key4.1\"])\n",
    "print(type(newDict[\"key4\"][\"key4.1\"]))\n",
    "\n",
    "vAriAble = newDict[\"key3\"][3] ## we can take them like this\n",
    "print(vAriAble)"
   ]
  },
  {
   "cell_type": "markdown",
   "id": "3e8d69f4",
   "metadata": {},
   "source": [
    "## DICTIONARY METHODS"
   ]
  },
  {
   "cell_type": "code",
   "execution_count": 36,
   "id": "4f4dda95",
   "metadata": {},
   "outputs": [
    {
     "data": {
      "text/plain": [
       "dict_keys(['key1', 'key2', 'key3', 'key4'])"
      ]
     },
     "execution_count": 36,
     "metadata": {},
     "output_type": "execute_result"
    }
   ],
   "source": [
    "newDict.keys()"
   ]
  },
  {
   "cell_type": "code",
   "execution_count": 37,
   "id": "0a15757b",
   "metadata": {},
   "outputs": [
    {
     "data": {
      "text/plain": [
       "{'key2': 10, 'key3': [9, 8, 7, 6, 5], 'key4': {'key4.1': 4.1}}"
      ]
     },
     "execution_count": 37,
     "metadata": {},
     "output_type": "execute_result"
    }
   ],
   "source": [
    "newDict.pop(\"key1\")\n",
    "newDict"
   ]
  },
  {
   "cell_type": "code",
   "execution_count": 38,
   "id": "08ea12c5",
   "metadata": {},
   "outputs": [
    {
     "data": {
      "text/plain": [
       "dict_values([10, [9, 8, 7, 6, 5], {'key4.1': 4.1}])"
      ]
     },
     "execution_count": 38,
     "metadata": {},
     "output_type": "execute_result"
    }
   ],
   "source": [
    "newDict.values()"
   ]
  },
  {
   "cell_type": "markdown",
   "id": "5e5e3275",
   "metadata": {},
   "source": [
    "# SET"
   ]
  },
  {
   "cell_type": "code",
   "execution_count": 41,
   "id": "331eb14b",
   "metadata": {},
   "outputs": [],
   "source": [
    "## lists can include multiple copies of same data\n",
    "mySlist = [1,2,3,1,2,3] ## this is a list"
   ]
  },
  {
   "cell_type": "markdown",
   "id": "73a60761",
   "metadata": {},
   "source": [
    "## but in \"set\" , every data is unique"
   ]
  },
  {
   "cell_type": "code",
   "execution_count": 42,
   "id": "a1ebe001",
   "metadata": {},
   "outputs": [
    {
     "name": "stdout",
     "output_type": "stream",
     "text": [
      "<class 'list'>\n",
      "<class 'set'>\n"
     ]
    }
   ],
   "source": [
    "mySlist_set = set(mySlist)\n",
    "print(type(mySlist))\n",
    "print(type(mySlist_set))"
   ]
  },
  {
   "cell_type": "code",
   "execution_count": 43,
   "id": "b9cb0d79",
   "metadata": {},
   "outputs": [
    {
     "data": {
      "text/plain": [
       "{1, 2, 3}"
      ]
     },
     "execution_count": 43,
     "metadata": {},
     "output_type": "execute_result"
    }
   ],
   "source": [
    "mySlist_set"
   ]
  },
  {
   "cell_type": "markdown",
   "id": "4bc43f88",
   "metadata": {},
   "source": [
    "# TUPLE\n"
   ]
  },
  {
   "cell_type": "code",
   "execution_count": 44,
   "id": "ac7cecfd",
   "metadata": {},
   "outputs": [],
   "source": [
    "myTuple = (1,2,\"a\",9.3)"
   ]
  },
  {
   "cell_type": "markdown",
   "id": "fddbc2c4",
   "metadata": {},
   "source": [
    "## unlike lists, we cannot alter the data members in tuple lists"
   ]
  },
  {
   "cell_type": "code",
   "execution_count": 45,
   "id": "b67d7119",
   "metadata": {
    "scrolled": false
   },
   "outputs": [
    {
     "ename": "TypeError",
     "evalue": "'tuple' object does not support item assignment",
     "output_type": "error",
     "traceback": [
      "\u001b[1;31m---------------------------------------------------------------------------\u001b[0m",
      "\u001b[1;31mTypeError\u001b[0m                                 Traceback (most recent call last)",
      "Input \u001b[1;32mIn [45]\u001b[0m, in \u001b[0;36m<cell line: 1>\u001b[1;34m()\u001b[0m\n\u001b[1;32m----> 1\u001b[0m myTuple[\u001b[38;5;241m3\u001b[39m] \u001b[38;5;241m=\u001b[39m \u001b[38;5;124m\"\u001b[39m\u001b[38;5;124myou cannot alter\u001b[39m\u001b[38;5;124m\"\u001b[39m\n",
      "\u001b[1;31mTypeError\u001b[0m: 'tuple' object does not support item assignment"
     ]
    }
   ],
   "source": [
    "myTuple[3] = \"you cannot alter\""
   ]
  },
  {
   "cell_type": "code",
   "execution_count": 46,
   "id": "a3c14f87",
   "metadata": {},
   "outputs": [],
   "source": [
    "lisT = [1,2,3,4,5,6]"
   ]
  },
  {
   "cell_type": "code",
   "execution_count": 69,
   "id": "181ace76",
   "metadata": {},
   "outputs": [
    {
     "name": "stdout",
     "output_type": "stream",
     "text": [
      "1 is odd number\n",
      "2 is even number\n",
      "3 is odd number\n",
      "4 is even number\n",
      "5 is odd number\n",
      "6 is even number\n"
     ]
    }
   ],
   "source": [
    "for i in lisT:\n",
    "    if i%2==0:\n",
    "        print(str(i) + \" is even number\")\n",
    "    else:\n",
    "        print(str(i) + \" is odd number\")\n",
    "    "
   ]
  },
  {
   "cell_type": "code",
   "execution_count": 72,
   "id": "4bbc539c",
   "metadata": {},
   "outputs": [
    {
     "name": "stdout",
     "output_type": "stream",
     "text": [
      "3\n",
      "2\n",
      "1\n",
      "6\n",
      "5\n",
      "4\n",
      "9\n",
      "8\n",
      "7\n"
     ]
    }
   ],
   "source": [
    "interestingList = [(1,2,3),(4,5,6),(7,8,9)]\n",
    "\n",
    "for (x,y,z) in interestingList:\n",
    "    print(z)\n",
    "    print(y)\n",
    "    print(x)"
   ]
  },
  {
   "cell_type": "code",
   "execution_count": 73,
   "id": "70462ce8",
   "metadata": {},
   "outputs": [
    {
     "data": {
      "text/plain": [
       "dict_items([('a', 8723), ('f', 1324), ('p', 42564)])"
      ]
     },
     "execution_count": 73,
     "metadata": {},
     "output_type": "execute_result"
    }
   ],
   "source": [
    "myNewDict = {\"a\":8723,\"f\":1324,\"p\":42564}\n",
    "myNewDict.items()"
   ]
  },
  {
   "cell_type": "code",
   "execution_count": 75,
   "id": "c0f0cdcd",
   "metadata": {},
   "outputs": [
    {
     "name": "stdout",
     "output_type": "stream",
     "text": [
      "a\n",
      "8723\n",
      "f\n",
      "1324\n",
      "p\n",
      "42564\n"
     ]
    }
   ],
   "source": [
    "for (x,y) in myNewDict.items():\n",
    "    print(x)\n",
    "    print(y)"
   ]
  },
  {
   "cell_type": "markdown",
   "id": "1065af5d",
   "metadata": {},
   "source": [
    "# WHILE LOOP\n"
   ]
  },
  {
   "cell_type": "code",
   "execution_count": 77,
   "id": "d0aad5ef",
   "metadata": {},
   "outputs": [
    {
     "name": "stdout",
     "output_type": "stream",
     "text": [
      "0\n",
      "1\n",
      "2\n",
      "3\n",
      "4\n",
      "5\n",
      "6\n",
      "7\n",
      "8\n",
      "9\n"
     ]
    }
   ],
   "source": [
    "x = 0\n",
    "while x<10:\n",
    "    print(x)\n",
    "    x=x+1"
   ]
  },
  {
   "cell_type": "code",
   "execution_count": 80,
   "id": "cc6019f1",
   "metadata": {},
   "outputs": [
    {
     "name": "stdout",
     "output_type": "stream",
     "text": [
      "2 is still here\n",
      "2 is still here\n",
      "2 is still here\n",
      "2 is still here\n",
      "2 is still here\n",
      "2 is out\n"
     ]
    }
   ],
   "source": [
    "myLisT =  [1,2,3,4,5,6]\n",
    "\n",
    "while 2 in myLisT:\n",
    "    print(\"2 is still here\")\n",
    "    myLisT.pop()\n",
    "    if 2 not in myLisT:\n",
    "        print(\"2 is out\")"
   ]
  },
  {
   "cell_type": "markdown",
   "id": "d326a184",
   "metadata": {},
   "source": [
    "## .Format Method"
   ]
  },
  {
   "cell_type": "code",
   "execution_count": 81,
   "id": "2cddc3ac",
   "metadata": {},
   "outputs": [
    {
     "name": "stdout",
     "output_type": "stream",
     "text": [
      "value :  2\n",
      "value :  5\n",
      "value :  7\n",
      "value :  9\n",
      "value :  2324\n"
     ]
    }
   ],
   "source": [
    "hugeList = [2,5,7,9,2324,213]\n",
    "for i in hugeList:\n",
    "    print(\"value :  {}\".format(i))"
   ]
  },
  {
   "cell_type": "code",
   "execution_count": 82,
   "id": "0740ec5c",
   "metadata": {},
   "outputs": [
    {
     "name": "stdout",
     "output_type": "stream",
     "text": [
      "value : 2\n",
      "value : 5\n",
      "value : 7\n",
      "value : 9\n",
      "value : 2324\n"
     ]
    }
   ],
   "source": [
    "hugEList = [12,5,76,91,224,534]\n",
    "for i in hugeList:\n",
    "    print(f\"value : {i}\")"
   ]
  },
  {
   "cell_type": "code",
   "execution_count": null,
   "id": "15fbe0fd",
   "metadata": {},
   "outputs": [],
   "source": []
  }
 ],
 "metadata": {
  "kernelspec": {
   "display_name": "Python 3 (ipykernel)",
   "language": "python",
   "name": "python3"
  },
  "language_info": {
   "codemirror_mode": {
    "name": "ipython",
    "version": 3
   },
   "file_extension": ".py",
   "mimetype": "text/x-python",
   "name": "python",
   "nbconvert_exporter": "python",
   "pygments_lexer": "ipython3",
   "version": "3.9.12"
  }
 },
 "nbformat": 4,
 "nbformat_minor": 5
}
