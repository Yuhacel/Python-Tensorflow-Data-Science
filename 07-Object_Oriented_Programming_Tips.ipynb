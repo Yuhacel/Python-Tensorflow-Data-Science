{
 "cells": [
  {
   "cell_type": "markdown",
   "id": "5ed1579b",
   "metadata": {},
   "source": [
    "## Instance\n",
    "## Attribute\n",
    "## Inheritance\n",
    "## Polymorphism"
   ]
  },
  {
   "cell_type": "markdown",
   "id": "e790fcad",
   "metadata": {},
   "source": [
    "# INSTANCE & ATTRIBUTE"
   ]
  },
  {
   "cell_type": "code",
   "execution_count": 94,
   "id": "9faf744c",
   "metadata": {},
   "outputs": [],
   "source": [
    "class SuperHero(): ## class names must start with a capital letter\n",
    "    def __init__(self, name, age, job): ## \"init\" comes from \"initialize\"\n",
    "        self.name = name\n",
    "        self.age = age\n",
    "        self.job = job\n",
    "        \n",
    "    def exampleMethod(self):\n",
    "        ## this one is important, we need self.(name) to call the method\n",
    "        print(f\"I am {self.name} and my job is {self.job}\")"
   ]
  },
  {
   "cell_type": "code",
   "execution_count": 95,
   "id": "6306e7ff",
   "metadata": {},
   "outputs": [],
   "source": [
    "batman = SuperHero(\"bruce\", 30, \"being rich\")"
   ]
  },
  {
   "cell_type": "code",
   "execution_count": 96,
   "id": "1dcbff1b",
   "metadata": {},
   "outputs": [
    {
     "data": {
      "text/plain": [
       "'bruce'"
      ]
     },
     "execution_count": 96,
     "metadata": {},
     "output_type": "execute_result"
    }
   ],
   "source": [
    "batman.name"
   ]
  },
  {
   "cell_type": "code",
   "execution_count": 97,
   "id": "9737e9e2",
   "metadata": {},
   "outputs": [
    {
     "name": "stdout",
     "output_type": "stream",
     "text": [
      "I am bruce and my job is being rich\n"
     ]
    }
   ],
   "source": [
    "batman.exampleMethod()"
   ]
  },
  {
   "cell_type": "code",
   "execution_count": 108,
   "id": "53bdd403",
   "metadata": {},
   "outputs": [],
   "source": [
    "class Cat0():\n",
    "    def __init__(self,age = 5): ## this helps us to get a \"default\" value\n",
    "        self.age = age          ## instead of getting an error"
   ]
  },
  {
   "cell_type": "code",
   "execution_count": 109,
   "id": "1aeb3846",
   "metadata": {},
   "outputs": [],
   "source": [
    "myCat_one = Cat(3) ## we gave the \"input\""
   ]
  },
  {
   "cell_type": "code",
   "execution_count": 110,
   "id": "623c57ea",
   "metadata": {},
   "outputs": [
    {
     "data": {
      "text/plain": [
       "3"
      ]
     },
     "execution_count": 110,
     "metadata": {},
     "output_type": "execute_result"
    }
   ],
   "source": [
    "myCat_one.age"
   ]
  },
  {
   "cell_type": "code",
   "execution_count": 111,
   "id": "e1d2c1b2",
   "metadata": {},
   "outputs": [],
   "source": [
    "myCat_two = Cat() ## we did not give the \"input\""
   ]
  },
  {
   "cell_type": "code",
   "execution_count": 112,
   "id": "bcc3d46b",
   "metadata": {},
   "outputs": [
    {
     "data": {
      "text/plain": [
       "5"
      ]
     },
     "execution_count": 112,
     "metadata": {},
     "output_type": "execute_result"
    }
   ],
   "source": [
    "myCat_two.age"
   ]
  },
  {
   "cell_type": "code",
   "execution_count": 103,
   "id": "fd418fe5",
   "metadata": {},
   "outputs": [],
   "source": [
    "class Dog():\n",
    "    def __init__(self,age = 5):\n",
    "        self.age = age\n",
    "    \n",
    "    def printit(self):   \n",
    "        a = self.age * 7\n",
    "        print(f\"your dog is {self.age} years old for normal and {a} years old if was a human\")"
   ]
  },
  {
   "cell_type": "code",
   "execution_count": 104,
   "id": "884a924c",
   "metadata": {},
   "outputs": [],
   "source": [
    "madog = Dog(2)"
   ]
  },
  {
   "cell_type": "code",
   "execution_count": 105,
   "id": "6ce442e3",
   "metadata": {},
   "outputs": [
    {
     "name": "stdout",
     "output_type": "stream",
     "text": [
      "your dog is 2 years old for normal and 14 years old if was a human\n"
     ]
    }
   ],
   "source": [
    "madog.printit()"
   ]
  },
  {
   "cell_type": "markdown",
   "id": "2cb1b6f6",
   "metadata": {},
   "source": [
    "# INHERITANCE"
   ]
  },
  {
   "cell_type": "code",
   "execution_count": 136,
   "id": "2d6b3a69",
   "metadata": {},
   "outputs": [],
   "source": [
    "class Animal():\n",
    "    def __init__(self):\n",
    "        print(\"init here\")\n",
    "    \n",
    "    def method_1(self):\n",
    "        print(\"Animal method 1\")\n",
    "    \n",
    "    def method_2(self):\n",
    "        print(\"Animal method 2\")"
   ]
  },
  {
   "cell_type": "code",
   "execution_count": 142,
   "id": "b3d2f79e",
   "metadata": {},
   "outputs": [],
   "source": [
    "class Cat(Animal):\n",
    "    def __init__(self):\n",
    "        Animal.__init__(self)\n",
    "        print(\"Cat Class's init\")\n",
    "    \n",
    "    def meowing(self): ## animals except cat\n",
    "        print(\"meow\")\n",
    "    \n",
    "    ## using \"OVERRIDE\"\n",
    "    def method_1(self): ## even it has the same name but it has different content\n",
    "        print(\"Cat Class's method 1 \")"
   ]
  },
  {
   "cell_type": "code",
   "execution_count": 143,
   "id": "86cdebd1",
   "metadata": {
    "scrolled": false
   },
   "outputs": [
    {
     "name": "stdout",
     "output_type": "stream",
     "text": [
      "init here\n",
      "Cat Class's init\n"
     ]
    }
   ],
   "source": [
    "maCat = Cat()"
   ]
  },
  {
   "cell_type": "code",
   "execution_count": 144,
   "id": "a86bdb51",
   "metadata": {},
   "outputs": [
    {
     "name": "stdout",
     "output_type": "stream",
     "text": [
      "Cat Class's method 1 \n",
      "Animal method 2\n",
      "meow\n"
     ]
    }
   ],
   "source": [
    "maCat.method_1() ## so, we can call the methods in the Animal class \n",
    "                 ## even it is for only the Cat Class\n",
    "maCat.method_2()  \n",
    "\n",
    "maCat.meowing()"
   ]
  },
  {
   "cell_type": "code",
   "execution_count": 145,
   "id": "2ba865d0",
   "metadata": {},
   "outputs": [
    {
     "name": "stdout",
     "output_type": "stream",
     "text": [
      "init here\n"
     ]
    }
   ],
   "source": [
    "maWolf = Animal()"
   ]
  },
  {
   "cell_type": "code",
   "execution_count": 146,
   "id": "f9c4e7ac",
   "metadata": {},
   "outputs": [
    {
     "name": "stdout",
     "output_type": "stream",
     "text": [
      "Animal method 1\n",
      "Animal method 2\n"
     ]
    }
   ],
   "source": [
    "maWolf.method_1()\n",
    "\n",
    "maWolf.method_2()"
   ]
  },
  {
   "cell_type": "markdown",
   "id": "7e81af17",
   "metadata": {},
   "source": [
    "# POLYMORPHISM"
   ]
  },
  {
   "cell_type": "code",
   "execution_count": 147,
   "id": "cb42c60d",
   "metadata": {},
   "outputs": [],
   "source": [
    "class Apple():\n",
    "    def __init__(self,name):\n",
    "        self.name = name\n",
    "    \n",
    "    def information(self):\n",
    "        return self.name + \" 150 calori \""
   ]
  },
  {
   "cell_type": "code",
   "execution_count": 148,
   "id": "309a336c",
   "metadata": {},
   "outputs": [],
   "source": [
    "class Banana():\n",
    "    def __init__(self,name):\n",
    "        self.name = name\n",
    "    \n",
    "    def information(self):\n",
    "        return self.name + \" 100 calori \""
   ]
  },
  {
   "cell_type": "code",
   "execution_count": 153,
   "id": "3bf50ee6",
   "metadata": {},
   "outputs": [
    {
     "name": "stdout",
     "output_type": "stream",
     "text": [
      "apple 150 calori \n",
      "banana 100 calori \n"
     ]
    }
   ],
   "source": [
    "apple = Apple(\"apple\") ## putting \"apple\" value into apple variable\n",
    "\n",
    "banana = Banana(\"banana\") ## putting \"banana\" value into banana variable\n",
    "\n",
    "print(apple.information())\n",
    "\n",
    "print(banana.information())"
   ]
  },
  {
   "cell_type": "code",
   "execution_count": 154,
   "id": "b50c2abe",
   "metadata": {},
   "outputs": [],
   "source": [
    "fruitList = [apple,banana]"
   ]
  },
  {
   "cell_type": "code",
   "execution_count": 155,
   "id": "e1b2037f",
   "metadata": {
    "scrolled": true
   },
   "outputs": [
    {
     "name": "stdout",
     "output_type": "stream",
     "text": [
      "apple 150 calori \n",
      "banana 100 calori \n"
     ]
    }
   ],
   "source": [
    "for fruit in fruitList:\n",
    "    print(fruit.information())"
   ]
  },
  {
   "cell_type": "code",
   "execution_count": 162,
   "id": "2d4c1825",
   "metadata": {},
   "outputs": [],
   "source": [
    "def info(fruit):\n",
    "    print(fruit.information())\n",
    "\n"
   ]
  },
  {
   "cell_type": "code",
   "execution_count": 163,
   "id": "389b2aeb",
   "metadata": {},
   "outputs": [
    {
     "name": "stdout",
     "output_type": "stream",
     "text": [
      "apple 150 calori \n",
      "banana 100 calori \n",
      "None None\n"
     ]
    }
   ],
   "source": [
    "print(info(apple),info(banana))\n"
   ]
  },
  {
   "cell_type": "code",
   "execution_count": null,
   "id": "e9f0cead",
   "metadata": {},
   "outputs": [],
   "source": []
  },
  {
   "cell_type": "code",
   "execution_count": null,
   "id": "61404c74",
   "metadata": {},
   "outputs": [],
   "source": []
  },
  {
   "cell_type": "code",
   "execution_count": null,
   "id": "c53421a5",
   "metadata": {},
   "outputs": [],
   "source": []
  },
  {
   "cell_type": "code",
   "execution_count": null,
   "id": "db83ed5f",
   "metadata": {},
   "outputs": [],
   "source": []
  },
  {
   "cell_type": "code",
   "execution_count": null,
   "id": "97ff3725",
   "metadata": {},
   "outputs": [],
   "source": []
  },
  {
   "cell_type": "code",
   "execution_count": null,
   "id": "12054a74",
   "metadata": {},
   "outputs": [],
   "source": []
  }
 ],
 "metadata": {
  "kernelspec": {
   "display_name": "Python 3 (ipykernel)",
   "language": "python",
   "name": "python3"
  },
  "language_info": {
   "codemirror_mode": {
    "name": "ipython",
    "version": 3
   },
   "file_extension": ".py",
   "mimetype": "text/x-python",
   "name": "python",
   "nbconvert_exporter": "python",
   "pygments_lexer": "ipython3",
   "version": "3.9.12"
  }
 },
 "nbformat": 4,
 "nbformat_minor": 5
}
