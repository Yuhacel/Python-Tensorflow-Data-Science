{
 "cells": [
  {
   "cell_type": "markdown",
   "id": "a952a9b4",
   "metadata": {},
   "source": [
    "## Advanced Level Of Series\n",
    "## Matrix\n",
    "### Slicing With Matrix Series\n",
    "## Operations"
   ]
  },
  {
   "cell_type": "markdown",
   "id": "51293874",
   "metadata": {},
   "source": [
    "# ADVANCED LEVEL OF SERIES"
   ]
  },
  {
   "cell_type": "code",
   "execution_count": 1,
   "id": "18b7e991",
   "metadata": {},
   "outputs": [],
   "source": [
    "import numpy as np"
   ]
  },
  {
   "cell_type": "code",
   "execution_count": 24,
   "id": "5bfb98f5",
   "metadata": {},
   "outputs": [
    {
     "data": {
      "text/plain": [
       "array([ 0,  1,  2,  3,  4,  5,  6,  7,  8,  9, 10, 11, 12, 13, 14])"
      ]
     },
     "execution_count": 24,
     "metadata": {},
     "output_type": "execute_result"
    }
   ],
   "source": [
    "mySeries = np.arange(0,15)\n",
    "mySeries"
   ]
  },
  {
   "cell_type": "code",
   "execution_count": 39,
   "id": "2045df48",
   "metadata": {},
   "outputs": [
    {
     "data": {
      "text/plain": [
       "numpy.ndarray"
      ]
     },
     "execution_count": 39,
     "metadata": {},
     "output_type": "execute_result"
    }
   ],
   "source": [
    "type(mySeries)"
   ]
  },
  {
   "cell_type": "code",
   "execution_count": 25,
   "id": "136ea331",
   "metadata": {},
   "outputs": [
    {
     "data": {
      "text/plain": [
       "5"
      ]
     },
     "execution_count": 25,
     "metadata": {},
     "output_type": "execute_result"
    }
   ],
   "source": [
    "mySeries[5] ## we can call members of series just like list"
   ]
  },
  {
   "cell_type": "code",
   "execution_count": 26,
   "id": "acc85646",
   "metadata": {
    "scrolled": true
   },
   "outputs": [
    {
     "data": {
      "text/plain": [
       "array([3, 4, 5])"
      ]
     },
     "execution_count": 26,
     "metadata": {},
     "output_type": "execute_result"
    }
   ],
   "source": [
    "mySeries[3:6] ## we can use \"slicing\" method for series just like list"
   ]
  },
  {
   "cell_type": "code",
   "execution_count": 27,
   "id": "27365ee6",
   "metadata": {
    "scrolled": true
   },
   "outputs": [
    {
     "data": {
      "text/plain": [
       "array([ 0,  1,  2, -5, -5, -5,  6,  7,  8,  9, 10, 11, 12, 13, 14])"
      ]
     },
     "execution_count": 27,
     "metadata": {},
     "output_type": "execute_result"
    }
   ],
   "source": [
    "mySeries[3:6] = -5  ## we can change the \"sliced\" part of series\n",
    "mySeries"
   ]
  },
  {
   "cell_type": "code",
   "execution_count": 28,
   "id": "2b6766e1",
   "metadata": {},
   "outputs": [
    {
     "data": {
      "text/plain": [
       "array([ 0,  1,  2,  3,  4,  5,  6,  7,  8,  9, 10, 11, 12, 13, 14, 15, 16,\n",
       "       17, 18, 19, 20, 21, 22, 23, 24])"
      ]
     },
     "execution_count": 28,
     "metadata": {},
     "output_type": "execute_result"
    }
   ],
   "source": [
    "otherSeries = np.arange(0,25) ## we can put series into variables\n",
    "otherSeries"
   ]
  },
  {
   "cell_type": "code",
   "execution_count": 29,
   "id": "21153156",
   "metadata": {},
   "outputs": [
    {
     "data": {
      "text/plain": [
       "array([5, 6, 7, 8, 9])"
      ]
     },
     "execution_count": 29,
     "metadata": {},
     "output_type": "execute_result"
    }
   ],
   "source": [
    "otherSeries[5:10]  ## slicing method"
   ]
  },
  {
   "cell_type": "code",
   "execution_count": 30,
   "id": "88ab0cb4",
   "metadata": {},
   "outputs": [
    {
     "data": {
      "text/plain": [
       "array([5, 6, 7, 8, 9])"
      ]
     },
     "execution_count": 30,
     "metadata": {},
     "output_type": "execute_result"
    }
   ],
   "source": [
    "slicingSeries = otherSeries[5:10] ## putted into a variable\n",
    "slicingSeries"
   ]
  },
  {
   "cell_type": "code",
   "execution_count": 31,
   "id": "351e7b33",
   "metadata": {},
   "outputs": [
    {
     "data": {
      "text/plain": [
       "array([999, 999, 999, 999, 999])"
      ]
     },
     "execution_count": 31,
     "metadata": {},
     "output_type": "execute_result"
    }
   ],
   "source": [
    "slicingSeries[:] = 999 ## changing the all members of sliced part \n",
    "slicingSeries"
   ]
  },
  {
   "cell_type": "code",
   "execution_count": 32,
   "id": "16fec124",
   "metadata": {},
   "outputs": [
    {
     "data": {
      "text/plain": [
       "array([  0,   1,   2,   3,   4, 999, 999, 999, 999, 999,  10,  11,  12,\n",
       "        13,  14,  15,  16,  17,  18,  19,  20,  21,  22,  23,  24])"
      ]
     },
     "execution_count": 32,
     "metadata": {},
     "output_type": "execute_result"
    }
   ],
   "source": [
    "otherSeries ## we changed the sliced part members \n",
    "            ## and it affected the original series array"
   ]
  },
  {
   "cell_type": "markdown",
   "id": "4592c514",
   "metadata": {},
   "source": [
    "##### blank "
   ]
  },
  {
   "cell_type": "code",
   "execution_count": 33,
   "id": "ebc765e1",
   "metadata": {},
   "outputs": [
    {
     "data": {
      "text/plain": [
       "array([ 0,  1,  2,  3,  4,  5,  6,  7,  8,  9, 10, 11, 12, 13, 14, 15, 16,\n",
       "       17, 18, 19, 20, 21, 22, 23, 24])"
      ]
     },
     "execution_count": 33,
     "metadata": {},
     "output_type": "execute_result"
    }
   ],
   "source": [
    "exampleSeries = np.arange(0,25) ## let's try it one more time\n",
    "exampleSeries"
   ]
  },
  {
   "cell_type": "code",
   "execution_count": 34,
   "id": "43d594e1",
   "metadata": {},
   "outputs": [
    {
     "data": {
      "text/plain": [
       "array([ 0,  1,  2,  3,  4,  5,  6,  7,  8,  9, 10, 11, 12, 13, 14, 15, 16,\n",
       "       17, 18, 19, 20, 21, 22, 23, 24])"
      ]
     },
     "execution_count": 34,
     "metadata": {},
     "output_type": "execute_result"
    }
   ],
   "source": [
    "exampleSeriesCopy = exampleSeries.copy() ## this time  \n",
    "exampleSeriesCopy                        ## we create a copy series array\n",
    "                                         ## for the original one\n",
    "                                         ## for changing the sliced part"
   ]
  },
  {
   "cell_type": "code",
   "execution_count": 35,
   "id": "87f5b8b0",
   "metadata": {},
   "outputs": [
    {
     "data": {
      "text/plain": [
       "array([10, 11, 12, 13, 14, 15, 16, 17, 18, 19])"
      ]
     },
     "execution_count": 35,
     "metadata": {},
     "output_type": "execute_result"
    }
   ],
   "source": [
    "exampleSeriesCopySlicing = exampleSeriesCopy[10:20] ## we putted them into \n",
    "exampleSeriesCopySlicing                            ## another variable\n",
    "                                                    ## to change"
   ]
  },
  {
   "cell_type": "code",
   "execution_count": 36,
   "id": "9eeb6c3a",
   "metadata": {},
   "outputs": [
    {
     "data": {
      "text/plain": [
       "array([888, 888, 888, 888, 888, 888, 888, 888, 888, 888])"
      ]
     },
     "execution_count": 36,
     "metadata": {},
     "output_type": "execute_result"
    }
   ],
   "source": [
    "exampleSeriesCopySlicing[:] = 888 ## we are changing the members \n",
    "exampleSeriesCopySlicing"
   ]
  },
  {
   "cell_type": "code",
   "execution_count": 37,
   "id": "c7a6da7c",
   "metadata": {},
   "outputs": [
    {
     "data": {
      "text/plain": [
       "array([  0,   1,   2,   3,   4,   5,   6,   7,   8,   9, 888, 888, 888,\n",
       "       888, 888, 888, 888, 888, 888, 888,  20,  21,  22,  23,  24])"
      ]
     },
     "execution_count": 37,
     "metadata": {},
     "output_type": "execute_result"
    }
   ],
   "source": [
    "exampleSeriesCopy ## and the change, only affected the \"copy\" version\n",
    "                  ## of the original series array"
   ]
  },
  {
   "cell_type": "code",
   "execution_count": 38,
   "id": "6a4cbeb6",
   "metadata": {},
   "outputs": [
    {
     "data": {
      "text/plain": [
       "array([ 0,  1,  2,  3,  4,  5,  6,  7,  8,  9, 10, 11, 12, 13, 14, 15, 16,\n",
       "       17, 18, 19, 20, 21, 22, 23, 24])"
      ]
     },
     "execution_count": 38,
     "metadata": {},
     "output_type": "execute_result"
    }
   ],
   "source": [
    "exampleSeries   ## and let's call the original \n",
    "                ## to see if anything is different \n",
    "                ## the answer is, no\n",
    "                ## it is the same as original"
   ]
  },
  {
   "cell_type": "markdown",
   "id": "cc14e82d",
   "metadata": {},
   "source": [
    "# MATRIX"
   ]
  },
  {
   "cell_type": "code",
   "execution_count": 40,
   "id": "1d448339",
   "metadata": {},
   "outputs": [],
   "source": [
    "matrixList = [[10,20,30],[40,50,60],[70,80,90]]"
   ]
  },
  {
   "cell_type": "code",
   "execution_count": 41,
   "id": "3bb6ae02",
   "metadata": {},
   "outputs": [
    {
     "data": {
      "text/plain": [
       "array([[10, 20, 30],\n",
       "       [40, 50, 60],\n",
       "       [70, 80, 90]])"
      ]
     },
     "execution_count": 41,
     "metadata": {},
     "output_type": "execute_result"
    }
   ],
   "source": [
    "matrixSeries = np.array(matrixList)\n",
    "matrixSeries"
   ]
  },
  {
   "cell_type": "code",
   "execution_count": 42,
   "id": "266988b9",
   "metadata": {},
   "outputs": [
    {
     "data": {
      "text/plain": [
       "30"
      ]
     },
     "execution_count": 42,
     "metadata": {},
     "output_type": "execute_result"
    }
   ],
   "source": [
    "matrixSeries[0][2]"
   ]
  },
  {
   "cell_type": "code",
   "execution_count": 43,
   "id": "92c41d97",
   "metadata": {},
   "outputs": [
    {
     "data": {
      "text/plain": [
       "30"
      ]
     },
     "execution_count": 43,
     "metadata": {},
     "output_type": "execute_result"
    }
   ],
   "source": [
    "matrixSeries[0,2]"
   ]
  },
  {
   "cell_type": "markdown",
   "id": "82647b11",
   "metadata": {},
   "source": [
    "## Slicing With Matrix Series"
   ]
  },
  {
   "cell_type": "code",
   "execution_count": 44,
   "id": "1be586a1",
   "metadata": {},
   "outputs": [
    {
     "data": {
      "text/plain": [
       "array([50, 80])"
      ]
     },
     "execution_count": 44,
     "metadata": {},
     "output_type": "execute_result"
    }
   ],
   "source": [
    "matrixSeries[1:,1] "
   ]
  },
  {
   "cell_type": "code",
   "execution_count": 45,
   "id": "9d1402ab",
   "metadata": {},
   "outputs": [
    {
     "data": {
      "text/plain": [
       "array([20, 50, 80])"
      ]
     },
     "execution_count": 45,
     "metadata": {},
     "output_type": "execute_result"
    }
   ],
   "source": [
    "matrixSeries[0:,1]"
   ]
  },
  {
   "cell_type": "code",
   "execution_count": 46,
   "id": "dfd7cf66",
   "metadata": {},
   "outputs": [
    {
     "data": {
      "text/plain": [
       "array([30, 60, 90])"
      ]
     },
     "execution_count": 46,
     "metadata": {},
     "output_type": "execute_result"
    }
   ],
   "source": [
    "matrixSeries[0:,2]"
   ]
  },
  {
   "cell_type": "code",
   "execution_count": 47,
   "id": "593686ab",
   "metadata": {},
   "outputs": [
    {
     "data": {
      "text/plain": [
       "array([70])"
      ]
     },
     "execution_count": 47,
     "metadata": {},
     "output_type": "execute_result"
    }
   ],
   "source": [
    "matrixSeries[2:,0]"
   ]
  },
  {
   "cell_type": "code",
   "execution_count": 48,
   "id": "4c7aadcf",
   "metadata": {},
   "outputs": [
    {
     "data": {
      "text/plain": [
       "array([[70, 80, 90]])"
      ]
     },
     "execution_count": 48,
     "metadata": {},
     "output_type": "execute_result"
    }
   ],
   "source": [
    "matrixSeries[2:,0:]"
   ]
  },
  {
   "cell_type": "code",
   "execution_count": 49,
   "id": "c73ca1e7",
   "metadata": {},
   "outputs": [
    {
     "data": {
      "text/plain": [
       "array([[50, 60],\n",
       "       [80, 90]])"
      ]
     },
     "execution_count": 49,
     "metadata": {},
     "output_type": "execute_result"
    }
   ],
   "source": [
    "matrixSeries[1:,1:]"
   ]
  },
  {
   "cell_type": "markdown",
   "id": "eaaa1a45",
   "metadata": {},
   "source": [
    "# OPERATIONS"
   ]
  },
  {
   "cell_type": "code",
   "execution_count": 53,
   "id": "8e07b88f",
   "metadata": {},
   "outputs": [
    {
     "data": {
      "text/plain": [
       "array([79,  6, 59, 33, 81,  2, 68, 43, 17, 55, 72, 19, 20, 76, 31, 98, 47,\n",
       "       69, 42, 31])"
      ]
     },
     "execution_count": 53,
     "metadata": {},
     "output_type": "execute_result"
    }
   ],
   "source": [
    "newSeries = np.random.randint(1,100,20)\n",
    "newSeries"
   ]
  },
  {
   "cell_type": "code",
   "execution_count": 56,
   "id": "32ec698c",
   "metadata": {},
   "outputs": [
    {
     "data": {
      "text/plain": [
       "array([ True, False,  True,  True,  True, False,  True,  True, False,\n",
       "        True,  True, False, False,  True,  True,  True,  True,  True,\n",
       "        True,  True])"
      ]
     },
     "execution_count": 56,
     "metadata": {},
     "output_type": "execute_result"
    }
   ],
   "source": [
    "newSeries > 25  ## it gives us the boolen answer for series members"
   ]
  },
  {
   "cell_type": "code",
   "execution_count": 58,
   "id": "fcb8164e",
   "metadata": {},
   "outputs": [
    {
     "data": {
      "text/plain": [
       "array([ True, False,  True,  True,  True, False,  True,  True, False,\n",
       "        True,  True, False, False,  True,  True,  True,  True,  True,\n",
       "        True,  True])"
      ]
     },
     "execution_count": 58,
     "metadata": {},
     "output_type": "execute_result"
    }
   ],
   "source": [
    "boolenAnswers = newSeries > 30 ## we putted it into a variable\n",
    "boolenAnswers "
   ]
  },
  {
   "cell_type": "code",
   "execution_count": 60,
   "id": "311f39f3",
   "metadata": {},
   "outputs": [
    {
     "data": {
      "text/plain": [
       "array([79, 59, 33, 81, 68, 43, 55, 72, 76, 31, 98, 47, 69, 42, 31])"
      ]
     },
     "execution_count": 60,
     "metadata": {},
     "output_type": "execute_result"
    }
   ],
   "source": [
    "newSeries[boolenAnswers] ## it gives us only the numbers \n",
    "                         ## which are equal to \"True\" in \n",
    "                         ## the variable called \"boolenAnswers\""
   ]
  },
  {
   "cell_type": "markdown",
   "id": "ccfd0d1e",
   "metadata": {},
   "source": [
    "##### blank"
   ]
  },
  {
   "cell_type": "code",
   "execution_count": 61,
   "id": "a5f117d0",
   "metadata": {},
   "outputs": [
    {
     "data": {
      "text/plain": [
       "array([ 0,  1,  2,  3,  4,  5,  6,  7,  8,  9, 10, 11, 12, 13, 14, 15, 16,\n",
       "       17, 18, 19, 20, 21, 22, 23, 24])"
      ]
     },
     "execution_count": 61,
     "metadata": {},
     "output_type": "execute_result"
    }
   ],
   "source": [
    "lastSeries = np.arange(0,25)\n",
    "lastSeries"
   ]
  },
  {
   "cell_type": "code",
   "execution_count": 65,
   "id": "45cd0d0d",
   "metadata": {},
   "outputs": [
    {
     "data": {
      "text/plain": [
       "array([ 0,  2,  4,  6,  8, 10, 12, 14, 16, 18, 20, 22, 24, 26, 28, 30, 32,\n",
       "       34, 36, 38, 40, 42, 44, 46, 48])"
      ]
     },
     "execution_count": 65,
     "metadata": {},
     "output_type": "execute_result"
    }
   ],
   "source": [
    "(lastSeries + lastSeries) "
   ]
  },
  {
   "cell_type": "code",
   "execution_count": 66,
   "id": "91d9fa70",
   "metadata": {},
   "outputs": [
    {
     "data": {
      "text/plain": [
       "array([  0,   6,  12,  18,  24,  30,  36,  42,  48,  54,  60,  66,  72,\n",
       "        78,  84,  90,  96, 102, 108, 114, 120, 126, 132, 138, 144])"
      ]
     },
     "execution_count": 66,
     "metadata": {},
     "output_type": "execute_result"
    }
   ],
   "source": [
    "(lastSeries + lastSeries) * 3"
   ]
  },
  {
   "cell_type": "code",
   "execution_count": 68,
   "id": "cec7c9a8",
   "metadata": {},
   "outputs": [
    {
     "data": {
      "text/plain": [
       "array([ 0. ,  0.5,  1. ,  1.5,  2. ,  2.5,  3. ,  3.5,  4. ,  4.5,  5. ,\n",
       "        5.5,  6. ,  6.5,  7. ,  7.5,  8. ,  8.5,  9. ,  9.5, 10. , 10.5,\n",
       "       11. , 11.5, 12. ])"
      ]
     },
     "execution_count": 68,
     "metadata": {},
     "output_type": "execute_result"
    }
   ],
   "source": [
    "(lastSeries + lastSeries) / 4"
   ]
  },
  {
   "cell_type": "code",
   "execution_count": 69,
   "id": "89ffbd10",
   "metadata": {},
   "outputs": [
    {
     "data": {
      "text/plain": [
       "array([  0,   1,   4,   9,  16,  25,  36,  49,  64,  81, 100, 121, 144,\n",
       "       169, 196, 225, 256, 289, 324, 361, 400, 441, 484, 529, 576])"
      ]
     },
     "execution_count": 69,
     "metadata": {},
     "output_type": "execute_result"
    }
   ],
   "source": [
    "(lastSeries * lastSeries) "
   ]
  },
  {
   "cell_type": "code",
   "execution_count": 70,
   "id": "39282bd0",
   "metadata": {},
   "outputs": [
    {
     "data": {
      "text/plain": [
       "array([0, 0, 0, 0, 0, 0, 0, 0, 0, 0, 0, 0, 0, 0, 0, 0, 0, 0, 0, 0, 0, 0,\n",
       "       0, 0, 0])"
      ]
     },
     "execution_count": 70,
     "metadata": {},
     "output_type": "execute_result"
    }
   ],
   "source": [
    "(lastSeries - lastSeries) "
   ]
  },
  {
   "cell_type": "code",
   "execution_count": 72,
   "id": "2035bee3",
   "metadata": {},
   "outputs": [
    {
     "name": "stderr",
     "output_type": "stream",
     "text": [
      "C:\\Users\\Lenovo\\AppData\\Local\\Temp\\ipykernel_7284\\336768949.py:1: RuntimeWarning: invalid value encountered in true_divide\n",
      "  (lastSeries / lastSeries) ## we cannot divide 0(zero) to 0(zero)\n"
     ]
    },
    {
     "data": {
      "text/plain": [
       "array([nan,  1.,  1.,  1.,  1.,  1.,  1.,  1.,  1.,  1.,  1.,  1.,  1.,\n",
       "        1.,  1.,  1.,  1.,  1.,  1.,  1.,  1.,  1.,  1.,  1.,  1.])"
      ]
     },
     "execution_count": 72,
     "metadata": {},
     "output_type": "execute_result"
    }
   ],
   "source": [
    "(lastSeries / lastSeries) ## we cannot divide 0(zero) to 0(zero)\n",
    "                          ## so, the compiler gives us an error message"
   ]
  },
  {
   "cell_type": "code",
   "execution_count": 74,
   "id": "2bc50e27",
   "metadata": {},
   "outputs": [
    {
     "data": {
      "text/plain": [
       "array([0.        , 1.        , 1.41421356, 1.73205081, 2.        ,\n",
       "       2.23606798, 2.44948974, 2.64575131, 2.82842712, 3.        ,\n",
       "       3.16227766, 3.31662479, 3.46410162, 3.60555128, 3.74165739,\n",
       "       3.87298335, 4.        , 4.12310563, 4.24264069, 4.35889894,\n",
       "       4.47213595, 4.58257569, 4.69041576, 4.79583152, 4.89897949])"
      ]
     },
     "execution_count": 74,
     "metadata": {},
     "output_type": "execute_result"
    }
   ],
   "source": [
    "np.sqrt(lastSeries) ## \" sqrt \" means \" square root \"\n",
    "                    ## it gives us the square roots of the digits"
   ]
  },
  {
   "cell_type": "code",
   "execution_count": null,
   "id": "1a88728f",
   "metadata": {},
   "outputs": [],
   "source": []
  }
 ],
 "metadata": {
  "kernelspec": {
   "display_name": "Python 3 (ipykernel)",
   "language": "python",
   "name": "python3"
  },
  "language_info": {
   "codemirror_mode": {
    "name": "ipython",
    "version": 3
   },
   "file_extension": ".py",
   "mimetype": "text/x-python",
   "name": "python",
   "nbconvert_exporter": "python",
   "pygments_lexer": "ipython3",
   "version": "3.9.12"
  }
 },
 "nbformat": 4,
 "nbformat_minor": 5
}
