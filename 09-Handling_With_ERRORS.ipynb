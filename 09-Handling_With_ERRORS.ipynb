{
 "cells": [
  {
   "cell_type": "markdown",
   "id": "bbca026c",
   "metadata": {},
   "source": [
    "# Handling With Errors"
   ]
  },
  {
   "cell_type": "code",
   "execution_count": 1,
   "id": "a58451e6",
   "metadata": {},
   "outputs": [],
   "source": [
    "def summ(num1, num2):\n",
    "    return num1 + num2\n"
   ]
  },
  {
   "cell_type": "code",
   "execution_count": 6,
   "id": "6f609506",
   "metadata": {},
   "outputs": [
    {
     "name": "stdout",
     "output_type": "stream",
     "text": [
      "first num : 1\n",
      "second num : 2\n"
     ]
    },
    {
     "data": {
      "text/plain": [
       "3"
      ]
     },
     "execution_count": 6,
     "metadata": {},
     "output_type": "execute_result"
    }
   ],
   "source": [
    "x = int(input(\"first num : \"))\n",
    "y = int(input(\"second num : \"))\n",
    "summ(x,y)"
   ]
  },
  {
   "cell_type": "markdown",
   "id": "44502b09",
   "metadata": {},
   "source": [
    "# TRY & EXCEPT & ELSE & FINALLY"
   ]
  },
  {
   "cell_type": "code",
   "execution_count": 2,
   "id": "f9660459",
   "metadata": {},
   "outputs": [],
   "source": [
    "## USE THESE INFORMATIONS !!!"
   ]
  },
  {
   "cell_type": "code",
   "execution_count": null,
   "id": "ee3e1d4b",
   "metadata": {},
   "outputs": [
    {
     "name": "stdout",
     "output_type": "stream",
     "text": [
      " num : a\n",
      "please input a number !\n",
      "the end\n",
      "please input a number !\n",
      "the end\n"
     ]
    }
   ],
   "source": [
    "while True:\n",
    "    try:\n",
    "        a = int(input(\" num : \"))\n",
    "    except:\n",
    "        print(\"please input a number !\")\n",
    "        continue\n",
    "    else:\n",
    "        print(\"thank you !\")\n",
    "        break\n",
    "    finally:\n",
    "        print(\"the end\")"
   ]
  },
  {
   "cell_type": "code",
   "execution_count": 1,
   "id": "0a365657",
   "metadata": {},
   "outputs": [
    {
     "name": "stdout",
     "output_type": "stream",
     "text": [
      " num : 1\n",
      "thank you !\n",
      "the end\n"
     ]
    }
   ],
   "source": [
    "while True:\n",
    "    try:\n",
    "        a = int(input(\" num : \"))\n",
    "    except:\n",
    "        print(\"please input a number !\")\n",
    "        continue\n",
    "    else:\n",
    "        print(\"thank you !\")\n",
    "        break\n",
    "    finally:\n",
    "        print(\"the end\")"
   ]
  },
  {
   "cell_type": "code",
   "execution_count": null,
   "id": "cc9d6004",
   "metadata": {},
   "outputs": [],
   "source": []
  },
  {
   "cell_type": "code",
   "execution_count": null,
   "id": "5b354ce5",
   "metadata": {},
   "outputs": [],
   "source": []
  }
 ],
 "metadata": {
  "kernelspec": {
   "display_name": "Python 3 (ipykernel)",
   "language": "python",
   "name": "python3"
  },
  "language_info": {
   "codemirror_mode": {
    "name": "ipython",
    "version": 3
   },
   "file_extension": ".py",
   "mimetype": "text/x-python",
   "name": "python",
   "nbconvert_exporter": "python",
   "pygments_lexer": "ipython3",
   "version": "3.9.12"
  }
 },
 "nbformat": 4,
 "nbformat_minor": 5
}
