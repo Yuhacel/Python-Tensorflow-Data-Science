{
 "cells": [
  {
   "cell_type": "markdown",
   "id": "5ac88822",
   "metadata": {},
   "source": [
    "## Scope\n",
    "### Local, Enclosing, Global, Built-in"
   ]
  },
  {
   "cell_type": "markdown",
   "id": "35b7fccb",
   "metadata": {},
   "source": [
    "# SCOPE"
   ]
  },
  {
   "cell_type": "code",
   "execution_count": 5,
   "id": "348b1fba",
   "metadata": {},
   "outputs": [],
   "source": [
    "num = 30\n",
    "\n",
    "def multiply(single):\n",
    "    num = 20\n",
    "    return num * single\n",
    "\n",
    "## both \"num\" variables are in a different scope\n",
    "## so, they don't affect each other"
   ]
  },
  {
   "cell_type": "code",
   "execution_count": 6,
   "id": "e264ec4e",
   "metadata": {},
   "outputs": [
    {
     "name": "stdout",
     "output_type": "stream",
     "text": [
      "100\n",
      "30\n"
     ]
    }
   ],
   "source": [
    "print(multiply(5))\n",
    "\n",
    "print(num)"
   ]
  },
  {
   "cell_type": "markdown",
   "id": "fa1bb3ee",
   "metadata": {},
   "source": [
    "## LOCAL, ENCLOSING, GLOBAL, BUILT-IN"
   ]
  },
  {
   "cell_type": "code",
   "execution_count": 33,
   "id": "b358eb49",
   "metadata": {},
   "outputs": [],
   "source": [
    "## Global\n",
    "mYname = \"a\"\n",
    "\n",
    "def myFunction():\n",
    "    ## Enclosing\n",
    "    mYname = \"b\"\n",
    "    \n",
    "    def yourFunction():\n",
    "        ## Local\n",
    "        mYname = \"c\"\n",
    "        \n",
    "        print(mYname)\n",
    "        \n",
    "    yourFunction()\n",
    "    \n",
    "## program, firstly looks for the \"Local\", \n",
    "## secondly looks for the \"Enclosing\",\n",
    "## thirdly looks for the \"Global\",\n",
    "## then, checks for the \"python\" itself which is \"Built-in\""
   ]
  },
  {
   "cell_type": "code",
   "execution_count": 34,
   "id": "140dfcfb",
   "metadata": {},
   "outputs": [
    {
     "name": "stdout",
     "output_type": "stream",
     "text": [
      "c\n"
     ]
    }
   ],
   "source": [
    "myFunction()"
   ]
  },
  {
   "cell_type": "code",
   "execution_count": 35,
   "id": "cbd65f94",
   "metadata": {},
   "outputs": [
    {
     "name": "stdout",
     "output_type": "stream",
     "text": [
      "a\n"
     ]
    }
   ],
   "source": [
    "print(mYname)"
   ]
  },
  {
   "cell_type": "code",
   "execution_count": 50,
   "id": "d570f199",
   "metadata": {},
   "outputs": [],
   "source": [
    "x = 10\n",
    "\n",
    "def newFunction(x):\n",
    "    print(x)\n",
    "    x = 20\n",
    "    print(x)\n",
    "    return x"
   ]
  },
  {
   "cell_type": "code",
   "execution_count": 53,
   "id": "1909f59f",
   "metadata": {},
   "outputs": [
    {
     "name": "stdout",
     "output_type": "stream",
     "text": [
      "3\n",
      "20\n",
      "20\n",
      "10\n"
     ]
    }
   ],
   "source": [
    "print(newFunction(3))\n",
    "\n",
    "print(x)"
   ]
  },
  {
   "cell_type": "code",
   "execution_count": 54,
   "id": "64ee018d",
   "metadata": {},
   "outputs": [],
   "source": [
    "y = 20\n",
    "\n",
    "def exampleFunction():\n",
    "    global y\n",
    "    y = 4\n",
    "    print(4)"
   ]
  },
  {
   "cell_type": "code",
   "execution_count": 59,
   "id": "3d45d698",
   "metadata": {},
   "outputs": [
    {
     "name": "stdout",
     "output_type": "stream",
     "text": [
      "4\n"
     ]
    }
   ],
   "source": [
    "exampleFunction()"
   ]
  },
  {
   "cell_type": "code",
   "execution_count": 60,
   "id": "72d48875",
   "metadata": {},
   "outputs": [
    {
     "name": "stdout",
     "output_type": "stream",
     "text": [
      "4\n"
     ]
    }
   ],
   "source": [
    "print(y)"
   ]
  },
  {
   "cell_type": "code",
   "execution_count": null,
   "id": "6b563f3a",
   "metadata": {},
   "outputs": [],
   "source": []
  },
  {
   "cell_type": "code",
   "execution_count": null,
   "id": "395523db",
   "metadata": {},
   "outputs": [],
   "source": []
  }
 ],
 "metadata": {
  "kernelspec": {
   "display_name": "Python 3 (ipykernel)",
   "language": "python",
   "name": "python3"
  },
  "language_info": {
   "codemirror_mode": {
    "name": "ipython",
    "version": 3
   },
   "file_extension": ".py",
   "mimetype": "text/x-python",
   "name": "python",
   "nbconvert_exporter": "python",
   "pygments_lexer": "ipython3",
   "version": "3.9.12"
  }
 },
 "nbformat": 4,
 "nbformat_minor": 5
}
