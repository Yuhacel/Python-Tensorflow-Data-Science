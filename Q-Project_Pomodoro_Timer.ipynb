{
 "cells": [
  {
   "cell_type": "code",
   "execution_count": 1,
   "id": "e793ffec",
   "metadata": {},
   "outputs": [],
   "source": [
    "import time\n",
    "\n",
    "def pomodoro_with_seconds():\n",
    "    time_of = int(input(\"Enter the time in seconds : \"))\n",
    "\n",
    "    while time_of:\n",
    "\n",
    "        mins = time_of // 60\n",
    "        secs = time_of % 60\n",
    "\n",
    "        timer = '{}:{}'.format(mins,secs)\n",
    "\n",
    "        print(timer, end=\"\\r\")\n",
    "\n",
    "        time.sleep(1)\n",
    "\n",
    "        time_of = time_of - 1\n",
    "\n",
    "    print(\"time's off\")"
   ]
  },
  {
   "cell_type": "code",
   "execution_count": 2,
   "id": "044c0717",
   "metadata": {},
   "outputs": [
    {
     "name": "stdout",
     "output_type": "stream",
     "text": [
      "Enter the time in seconds : 10\n",
      "time's off\n"
     ]
    }
   ],
   "source": [
    "pomodoro_with_seconds()"
   ]
  },
  {
   "cell_type": "code",
   "execution_count": 3,
   "id": "7501af5f",
   "metadata": {},
   "outputs": [],
   "source": [
    "import time\n",
    "import os\n",
    "\n",
    "def convert(timE):\n",
    "    return timE * 60\n",
    "\n",
    "def countdown(timE, label):\n",
    "    ##60\n",
    "    while timE:\n",
    "        min, sec = divmod(timE, 60)\n",
    "        ## time // 60\n",
    "        ## time % 60\n",
    "        print(f\"{label}: {min:02d}:{sec:02d}\", end = \"\\r\")\n",
    "        time.sleep(1)\n",
    "        timE -= 1\n",
    "    \n",
    "def pomodoro_try(work_time,rest_time):\n",
    "    ## Convert minutes to seconds here\n",
    "    work = convert(work_time)\n",
    "    rest = convert(rest_time)\n",
    "    \n",
    "    countdown(work, \"Work\")\n",
    "    os.system(\"clear||cls\")\n",
    "    countdown(rest, \"Rest\")\n",
    "    os.system(\"clear||cls\")\n",
    "    \n",
    "    ##work_time = int(input(\"Enter the work time (min) : \"))\n",
    "    ##rest_time = int(input(\"Enter the rest time (min ): \"))\n",
    "    \n",
    "    ##print(\"{} minutes work & {} minutes rest pomodoro\".format(work_time,rest_time))\n",
    "    "
   ]
  },
  {
   "cell_type": "code",
   "execution_count": 5,
   "id": "1288f9cf",
   "metadata": {},
   "outputs": [
    {
     "name": "stdout",
     "output_type": "stream",
     "text": [
      "Rest: 00:01\r"
     ]
    }
   ],
   "source": [
    "pomodoro_try(2,2)"
   ]
  },
  {
   "cell_type": "code",
   "execution_count": null,
   "id": "94e91a49",
   "metadata": {},
   "outputs": [],
   "source": []
  }
 ],
 "metadata": {
  "kernelspec": {
   "display_name": "Python 3 (ipykernel)",
   "language": "python",
   "name": "python3"
  },
  "language_info": {
   "codemirror_mode": {
    "name": "ipython",
    "version": 3
   },
   "file_extension": ".py",
   "mimetype": "text/x-python",
   "name": "python",
   "nbconvert_exporter": "python",
   "pygments_lexer": "ipython3",
   "version": "3.9.13"
  }
 },
 "nbformat": 4,
 "nbformat_minor": 5
}
