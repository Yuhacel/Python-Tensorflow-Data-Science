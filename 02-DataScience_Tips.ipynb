{
 "cells": [
  {
   "cell_type": "markdown",
   "id": "9ea01562",
   "metadata": {},
   "source": [
    "## Range\n",
    "## Random & Randint\n",
    "## Zip\n",
    "### Advanced Level of Lists"
   ]
  },
  {
   "cell_type": "markdown",
   "id": "ae6c20a9",
   "metadata": {},
   "source": [
    "# RANGE"
   ]
  },
  {
   "cell_type": "code",
   "execution_count": 1,
   "id": "e3341238",
   "metadata": {},
   "outputs": [
    {
     "data": {
      "text/plain": [
       "range(0, 15)"
      ]
     },
     "execution_count": 1,
     "metadata": {},
     "output_type": "execute_result"
    }
   ],
   "source": [
    "range(15)"
   ]
  },
  {
   "cell_type": "code",
   "execution_count": 3,
   "id": "b8fb78e6",
   "metadata": {},
   "outputs": [
    {
     "data": {
      "text/plain": [
       "[0, 1, 2, 3, 4, 5, 6, 7, 8, 9]"
      ]
     },
     "execution_count": 3,
     "metadata": {},
     "output_type": "execute_result"
    }
   ],
   "source": [
    "list(range(10))"
   ]
  },
  {
   "cell_type": "code",
   "execution_count": 4,
   "id": "82a55884",
   "metadata": {},
   "outputs": [
    {
     "name": "stdout",
     "output_type": "stream",
     "text": [
      "0\n",
      "2\n",
      "4\n",
      "6\n",
      "8\n",
      "10\n",
      "12\n",
      "14\n",
      "16\n",
      "18\n",
      "20\n",
      "22\n"
     ]
    }
   ],
   "source": [
    "for i in list(range(12)):\n",
    "    print(i * 2)"
   ]
  },
  {
   "cell_type": "code",
   "execution_count": 8,
   "id": "5a9620e5",
   "metadata": {},
   "outputs": [
    {
     "data": {
      "text/plain": [
       "[3, 5, 7, 9, 11, 13, 15, 17, 19, 21, 23]"
      ]
     },
     "execution_count": 8,
     "metadata": {},
     "output_type": "execute_result"
    }
   ],
   "source": [
    "list(range(3,24,2))"
   ]
  },
  {
   "cell_type": "code",
   "execution_count": 11,
   "id": "3e7ff746",
   "metadata": {},
   "outputs": [
    {
     "name": "stdout",
     "output_type": "stream",
     "text": [
      "new num : 5 , new index 0\n",
      "new num : 6 , new index 1\n",
      "new num : 7 , new index 2\n",
      "new num : 8 , new index 3\n",
      "new num : 9 , new index 4\n",
      "new num : 10 , new index 5\n",
      "new num : 11 , new index 6\n",
      "new num : 12 , new index 7\n",
      "new num : 13 , new index 8\n",
      "new num : 14 , new index 9\n"
     ]
    }
   ],
   "source": [
    "index = 0\n",
    "for i in list(range(5,15)):\n",
    "    print(f\"new num : {i} , new index {index}\")\n",
    "    index = index+1"
   ]
  },
  {
   "cell_type": "code",
   "execution_count": 12,
   "id": "37557fb0",
   "metadata": {},
   "outputs": [
    {
     "name": "stdout",
     "output_type": "stream",
     "text": [
      "(0, 5)\n",
      "(1, 6)\n",
      "(2, 7)\n",
      "(3, 8)\n",
      "(4, 9)\n",
      "(5, 10)\n",
      "(6, 11)\n",
      "(7, 12)\n",
      "(8, 13)\n",
      "(9, 14)\n"
     ]
    }
   ],
   "source": [
    "for i in enumerate(list(range(5,15))):\n",
    "    print(i)"
   ]
  },
  {
   "cell_type": "code",
   "execution_count": 16,
   "id": "a6e8ab48",
   "metadata": {},
   "outputs": [
    {
     "name": "stdout",
     "output_type": "stream",
     "text": [
      "0 5\n",
      "1 6\n",
      "2 7\n",
      "3 8\n",
      "4 9\n",
      "5 10\n",
      "6 11\n",
      "7 12\n",
      "8 13\n",
      "9 14\n"
     ]
    }
   ],
   "source": [
    "for (i,v) in enumerate(list(range(5,15))):\n",
    "    print(i,v)"
   ]
  },
  {
   "cell_type": "markdown",
   "id": "1179e2c2",
   "metadata": {},
   "source": [
    "# RANDOM"
   ]
  },
  {
   "cell_type": "code",
   "execution_count": 7,
   "id": "105cbf3c",
   "metadata": {},
   "outputs": [
    {
     "data": {
      "text/plain": [
       "9"
      ]
     },
     "execution_count": 7,
     "metadata": {},
     "output_type": "execute_result"
    }
   ],
   "source": [
    "from random import randint\n",
    "\n",
    "randint(1,10) ## give random numbers between 1 and 10"
   ]
  },
  {
   "cell_type": "code",
   "execution_count": 8,
   "id": "9f1bf06e",
   "metadata": {},
   "outputs": [
    {
     "data": {
      "text/plain": [
       "2"
      ]
     },
     "execution_count": 8,
     "metadata": {},
     "output_type": "execute_result"
    }
   ],
   "source": [
    "neWList = list(range(0,12))\n",
    "\n",
    "neWList[randint(0,12)]"
   ]
  },
  {
   "cell_type": "code",
   "execution_count": 10,
   "id": "dd44de99",
   "metadata": {},
   "outputs": [
    {
     "name": "stdout",
     "output_type": "stream",
     "text": [
      "[8, 2, 11, 6, 1, 0, 4, 3, 5, 9, 10, 7]\n"
     ]
    }
   ],
   "source": [
    "from random import shuffle\n",
    "\n",
    "shuffle(neWList)\n",
    "\n",
    "print(neWList)"
   ]
  },
  {
   "cell_type": "markdown",
   "id": "3a9f10c9",
   "metadata": {},
   "source": [
    "# ZIP"
   ]
  },
  {
   "cell_type": "code",
   "execution_count": 11,
   "id": "64b69d19",
   "metadata": {},
   "outputs": [],
   "source": [
    "foodList = [\"banana\",\"kiwi\",\"apple\"]\n",
    "caloriList = [50,100,150]\n",
    "dayList = [\"sunday\",\"monday\",\"friday\"]"
   ]
  },
  {
   "cell_type": "code",
   "execution_count": 13,
   "id": "ba72ca93",
   "metadata": {},
   "outputs": [],
   "source": [
    "zippedList = list(zip(foodList,caloriList,dayList))"
   ]
  },
  {
   "cell_type": "code",
   "execution_count": 15,
   "id": "383f5b80",
   "metadata": {},
   "outputs": [
    {
     "name": "stdout",
     "output_type": "stream",
     "text": [
      "[('banana', 50, 'sunday'), ('kiwi', 100, 'monday'), ('apple', 150, 'friday')]\n",
      "<class 'tuple'>\n",
      "<class 'tuple'>\n",
      "<class 'tuple'>\n"
     ]
    }
   ],
   "source": [
    "print(zippedList)\n",
    "for i in zippedList:\n",
    "    print(type(i))"
   ]
  },
  {
   "cell_type": "markdown",
   "id": "3561fa28",
   "metadata": {},
   "source": [
    "## Advanced Level of Lists"
   ]
  },
  {
   "cell_type": "code",
   "execution_count": 17,
   "id": "e56bdb59",
   "metadata": {},
   "outputs": [
    {
     "name": "stdout",
     "output_type": "stream",
     "text": [
      "['w', 'e', 'l', 'c', 'o', 'm', 'e', ' ', 'b', 'a', 'c', 'k', ' ', 's', 'i', 'r']\n"
     ]
    }
   ],
   "source": [
    "lisTexample = []\n",
    "mYString = \"welcome back sir\"\n",
    "\n",
    "for i in mYString:\n",
    "    lisTexample.append(i)\n",
    "    \n",
    "print(lisTexample)    "
   ]
  },
  {
   "cell_type": "code",
   "execution_count": 19,
   "id": "6faff6ef",
   "metadata": {},
   "outputs": [
    {
     "name": "stdout",
     "output_type": "stream",
     "text": [
      "['w', 'e', 'l', 'c', 'o', 'm', 'e', ' ', 'b', 'a', 'c', 'k', ' ', 'm', 'y', ' ', 's', 'i', 'r']\n"
     ]
    }
   ],
   "source": [
    "\n",
    "nEWmYString = \"welcome back my sir\"\n",
    "\n",
    "nEWlisTexample = [member for member in nEWmYString]\n",
    "\n",
    "print(nEWlisTexample)"
   ]
  },
  {
   "cell_type": "code",
   "execution_count": 20,
   "id": "0b51e5f1",
   "metadata": {},
   "outputs": [
    {
     "name": "stdout",
     "output_type": "stream",
     "text": [
      "[5, 10, 15, 20, 25, 30, 35, 40, 45, 50]\n"
     ]
    }
   ],
   "source": [
    "seconDList = [number * 5 for number in list(range(1,11))] ## here !!\n",
    "print(seconDList)"
   ]
  },
  {
   "cell_type": "code",
   "execution_count": 22,
   "id": "bb90b9ac",
   "metadata": {},
   "outputs": [
    {
     "name": "stdout",
     "output_type": "stream",
     "text": [
      "[1, 32, 243, 1024, 3125, 7776, 16807, 32768, 59049, 100000]\n"
     ]
    }
   ],
   "source": [
    "seconDList = [number ** 5 for number in [*range(1,11)]]  ## here !!\n",
    "print(seconDList)"
   ]
  },
  {
   "cell_type": "code",
   "execution_count": null,
   "id": "b08ee097",
   "metadata": {},
   "outputs": [],
   "source": []
  }
 ],
 "metadata": {
  "kernelspec": {
   "display_name": "Python 3 (ipykernel)",
   "language": "python",
   "name": "python3"
  },
  "language_info": {
   "codemirror_mode": {
    "name": "ipython",
    "version": 3
   },
   "file_extension": ".py",
   "mimetype": "text/x-python",
   "name": "python",
   "nbconvert_exporter": "python",
   "pygments_lexer": "ipython3",
   "version": "3.9.12"
  }
 },
 "nbformat": 4,
 "nbformat_minor": 5
}
