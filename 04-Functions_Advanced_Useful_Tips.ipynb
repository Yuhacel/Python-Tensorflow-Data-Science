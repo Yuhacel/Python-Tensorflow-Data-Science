{
 "cells": [
  {
   "cell_type": "markdown",
   "id": "fd4e7d7f",
   "metadata": {},
   "source": [
    "## Useful Functions\n",
    "### Map\n",
    "### Filter\n",
    "### Lambda"
   ]
  },
  {
   "cell_type": "markdown",
   "id": "99fe59e3",
   "metadata": {},
   "source": [
    "# USEFUL FUNCTIONS"
   ]
  },
  {
   "cell_type": "code",
   "execution_count": 2,
   "id": "a2f0d9fc",
   "metadata": {},
   "outputs": [],
   "source": [
    "def divider(num):\n",
    "    return num / 2"
   ]
  },
  {
   "cell_type": "code",
   "execution_count": 3,
   "id": "346dfac4",
   "metadata": {},
   "outputs": [
    {
     "data": {
      "text/plain": [
       "3.0"
      ]
     },
     "execution_count": 3,
     "metadata": {},
     "output_type": "execute_result"
    }
   ],
   "source": [
    "divider(6)"
   ]
  },
  {
   "cell_type": "code",
   "execution_count": 4,
   "id": "fb78434e",
   "metadata": {},
   "outputs": [
    {
     "name": "stdout",
     "output_type": "stream",
     "text": [
      "[1, 2, 3, 4, 5, 6, 7, 8, 9, 10]\n"
     ]
    }
   ],
   "source": [
    "myList = [*range(1,11)]\n",
    "print(myList)"
   ]
  },
  {
   "cell_type": "code",
   "execution_count": 5,
   "id": "c51bed0f",
   "metadata": {},
   "outputs": [
    {
     "name": "stdout",
     "output_type": "stream",
     "text": [
      "[1, 2, 3, 4, 5, 6, 7, 8, 9, 10]\n",
      "[0.5, 1.0, 1.5, 2.0, 2.5, 3.0, 3.5, 4.0, 4.5, 5.0]\n"
     ]
    }
   ],
   "source": [
    "## divide the numbers in the \"myList\" with using \"divider\" function\n",
    "## then put the divided numbers into another list \"secondList\"\n",
    "\n",
    "secondList = []\n",
    "for i in myList:\n",
    "    \n",
    "    secondList.append(divider(i))\n",
    "    \n",
    "    i=i+1\n",
    "\n",
    "print(myList)    \n",
    "print(secondList)"
   ]
  },
  {
   "cell_type": "markdown",
   "id": "74427939",
   "metadata": {},
   "source": [
    "## MAP"
   ]
  },
  {
   "cell_type": "code",
   "execution_count": 6,
   "id": "ec2a4202",
   "metadata": {},
   "outputs": [
    {
     "data": {
      "text/plain": [
       "<map at 0x16512abc940>"
      ]
     },
     "execution_count": 6,
     "metadata": {},
     "output_type": "execute_result"
    }
   ],
   "source": [
    "map(divider,myList)"
   ]
  },
  {
   "cell_type": "code",
   "execution_count": 7,
   "id": "06acbdfe",
   "metadata": {},
   "outputs": [
    {
     "data": {
      "text/plain": [
       "[0.5, 1.0, 1.5, 2.0, 2.5, 3.0, 3.5, 4.0, 4.5, 5.0]"
      ]
     },
     "execution_count": 7,
     "metadata": {},
     "output_type": "execute_result"
    }
   ],
   "source": [
    "list(map(divider,myList))"
   ]
  },
  {
   "cell_type": "code",
   "execution_count": 8,
   "id": "a9bf89a6",
   "metadata": {},
   "outputs": [],
   "source": [
    "thirdList = list(map(divider,myList))"
   ]
  },
  {
   "cell_type": "code",
   "execution_count": 9,
   "id": "f13c4fdb",
   "metadata": {},
   "outputs": [
    {
     "name": "stdout",
     "output_type": "stream",
     "text": [
      "[0.5, 1.0, 1.5, 2.0, 2.5, 3.0, 3.5, 4.0, 4.5, 5.0]\n"
     ]
    }
   ],
   "source": [
    "print(thirdList)"
   ]
  },
  {
   "cell_type": "code",
   "execution_count": 11,
   "id": "6cc14639",
   "metadata": {},
   "outputs": [],
   "source": [
    "strinGList = [\"find\",\"miracle\",\"love\",\"trust\",\"believe\",\"control\"]"
   ]
  },
  {
   "cell_type": "code",
   "execution_count": 21,
   "id": "4590642c",
   "metadata": {},
   "outputs": [],
   "source": [
    "def controlFunction(string):  ## important !\n",
    "    return \"i\" in string"
   ]
  },
  {
   "cell_type": "code",
   "execution_count": 22,
   "id": "e952b18c",
   "metadata": {},
   "outputs": [
    {
     "data": {
      "text/plain": [
       "True"
      ]
     },
     "execution_count": 22,
     "metadata": {},
     "output_type": "execute_result"
    }
   ],
   "source": [
    "controlFunction(\"find\")"
   ]
  },
  {
   "cell_type": "code",
   "execution_count": 23,
   "id": "9ec7892e",
   "metadata": {},
   "outputs": [
    {
     "data": {
      "text/plain": [
       "[True, True, False, False, True, False]"
      ]
     },
     "execution_count": 23,
     "metadata": {},
     "output_type": "execute_result"
    }
   ],
   "source": [
    "list(map(controlFunction,strinGList))"
   ]
  },
  {
   "cell_type": "code",
   "execution_count": 24,
   "id": "537c8e82",
   "metadata": {},
   "outputs": [
    {
     "name": "stdout",
     "output_type": "stream",
     "text": [
      "[True, True, False, False, True, False]\n"
     ]
    }
   ],
   "source": [
    "endList = list(map(controlFunction,strinGList))\n",
    "print(endList)"
   ]
  },
  {
   "cell_type": "code",
   "execution_count": 25,
   "id": "3d87766c",
   "metadata": {},
   "outputs": [
    {
     "name": "stdout",
     "output_type": "stream",
     "text": [
      "3\n"
     ]
    }
   ],
   "source": [
    "print(endList.count(True))"
   ]
  },
  {
   "cell_type": "markdown",
   "id": "d526e391",
   "metadata": {},
   "source": [
    "## FILTER"
   ]
  },
  {
   "cell_type": "code",
   "execution_count": 29,
   "id": "bcc17aab",
   "metadata": {},
   "outputs": [
    {
     "data": {
      "text/plain": [
       "['find', 'miracle', 'believe']"
      ]
     },
     "execution_count": 29,
     "metadata": {},
     "output_type": "execute_result"
    }
   ],
   "source": [
    "list(filter(controlFunction,strinGList))\n",
    "## only gives you what you want, which is \"True\""
   ]
  },
  {
   "cell_type": "markdown",
   "id": "17905e8f",
   "metadata": {},
   "source": [
    "## LAMBDA"
   ]
  },
  {
   "cell_type": "code",
   "execution_count": 32,
   "id": "8a1af49b",
   "metadata": {},
   "outputs": [],
   "source": [
    "multiple = lambda num : num * 3\n",
    "## helps you to make functions in one line code"
   ]
  },
  {
   "cell_type": "code",
   "execution_count": 34,
   "id": "38a7dcfb",
   "metadata": {},
   "outputs": [
    {
     "data": {
      "text/plain": [
       "9"
      ]
     },
     "execution_count": 34,
     "metadata": {},
     "output_type": "execute_result"
    }
   ],
   "source": [
    "multiple(3) ## \"multiple\" is the name of the function "
   ]
  },
  {
   "cell_type": "code",
   "execution_count": 38,
   "id": "835601bb",
   "metadata": {},
   "outputs": [
    {
     "data": {
      "text/plain": [
       "[1.0, 1.5, 2.0, 2.5, 3.0, 3.5, 4.0]"
      ]
     },
     "execution_count": 38,
     "metadata": {},
     "output_type": "execute_result"
    }
   ],
   "source": [
    "randoMLisT = [*range(2,9)]\n",
    "list(map(lambda num : num / 2 , randoMLisT))"
   ]
  },
  {
   "cell_type": "code",
   "execution_count": null,
   "id": "448668e6",
   "metadata": {},
   "outputs": [],
   "source": []
  }
 ],
 "metadata": {
  "kernelspec": {
   "display_name": "Python 3 (ipykernel)",
   "language": "python",
   "name": "python3"
  },
  "language_info": {
   "codemirror_mode": {
    "name": "ipython",
    "version": 3
   },
   "file_extension": ".py",
   "mimetype": "text/x-python",
   "name": "python",
   "nbconvert_exporter": "python",
   "pygments_lexer": "ipython3",
   "version": "3.9.12"
  }
 },
 "nbformat": 4,
 "nbformat_minor": 5
}
