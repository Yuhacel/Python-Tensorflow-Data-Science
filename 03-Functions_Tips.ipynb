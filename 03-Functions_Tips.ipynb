{
 "cells": [
  {
   "cell_type": "markdown",
   "id": "aca5f912",
   "metadata": {},
   "source": [
    "## Functions\n",
    "### Input & Return\n",
    "## Arguments & Key Word Arguments (args & kwargs)"
   ]
  },
  {
   "cell_type": "markdown",
   "id": "f8a6ccf8",
   "metadata": {},
   "source": [
    "# FUNCTIONS"
   ]
  },
  {
   "cell_type": "code",
   "execution_count": 1,
   "id": "d189b189",
   "metadata": {},
   "outputs": [],
   "source": [
    "def firstFunction():\n",
    "    print(\"my first func !\")"
   ]
  },
  {
   "cell_type": "code",
   "execution_count": 3,
   "id": "141d236e",
   "metadata": {},
   "outputs": [
    {
     "name": "stdout",
     "output_type": "stream",
     "text": [
      "my first func !\n"
     ]
    }
   ],
   "source": [
    "firstFunction() ## we call functions like this"
   ]
  },
  {
   "cell_type": "markdown",
   "id": "5e86360e",
   "metadata": {},
   "source": [
    "## INPUT & RETURN "
   ]
  },
  {
   "cell_type": "code",
   "execution_count": 4,
   "id": "6fa29d99",
   "metadata": {},
   "outputs": [],
   "source": [
    "def helloWorld(name):\n",
    "    print(\"hello there\")\n",
    "    print(name)"
   ]
  },
  {
   "cell_type": "code",
   "execution_count": 5,
   "id": "2c3aaafc",
   "metadata": {},
   "outputs": [
    {
     "name": "stdout",
     "output_type": "stream",
     "text": [
      "hello there\n",
      "python user\n"
     ]
    }
   ],
   "source": [
    "helloWorld(\"python user\")"
   ]
  },
  {
   "cell_type": "code",
   "execution_count": 6,
   "id": "137c125a",
   "metadata": {},
   "outputs": [
    {
     "name": "stdout",
     "output_type": "stream",
     "text": [
      "hello there\n",
      "internet !\n"
     ]
    }
   ],
   "source": [
    "helloWorld(\"internet !\")"
   ]
  },
  {
   "cell_type": "code",
   "execution_count": 7,
   "id": "7fe84eb9",
   "metadata": {},
   "outputs": [],
   "source": [
    "def hello(name = \"jos\"):\n",
    "    print(\"hi\")\n",
    "    print(name)"
   ]
  },
  {
   "cell_type": "code",
   "execution_count": 8,
   "id": "ab2d445c",
   "metadata": {},
   "outputs": [
    {
     "name": "stdout",
     "output_type": "stream",
     "text": [
      "hi\n",
      "jos\n"
     ]
    }
   ],
   "source": [
    "hello()"
   ]
  },
  {
   "cell_type": "code",
   "execution_count": 9,
   "id": "9e8125fc",
   "metadata": {},
   "outputs": [
    {
     "name": "stdout",
     "output_type": "stream",
     "text": [
      "hi\n",
      "dude\n"
     ]
    }
   ],
   "source": [
    "hello(\"dude\")"
   ]
  },
  {
   "cell_type": "code",
   "execution_count": 28,
   "id": "dd62173d",
   "metadata": {},
   "outputs": [],
   "source": [
    "def summ(num1, num2):\n",
    "    output = num1 + num2\n",
    "    print(output)    ## print cannot return output"
   ]
  },
  {
   "cell_type": "code",
   "execution_count": 29,
   "id": "a6469ac9",
   "metadata": {
    "scrolled": true
   },
   "outputs": [
    {
     "name": "stdout",
     "output_type": "stream",
     "text": [
      "15.3\n"
     ]
    }
   ],
   "source": [
    "summ(11,4.3)"
   ]
  },
  {
   "cell_type": "code",
   "execution_count": 30,
   "id": "5b709f9d",
   "metadata": {},
   "outputs": [
    {
     "name": "stdout",
     "output_type": "stream",
     "text": [
      "12\n"
     ]
    }
   ],
   "source": [
    "newVariable = summ(9,3)"
   ]
  },
  {
   "cell_type": "code",
   "execution_count": 31,
   "id": "6bd0ba0d",
   "metadata": {},
   "outputs": [
    {
     "data": {
      "text/plain": [
       "NoneType"
      ]
     },
     "execution_count": 31,
     "metadata": {},
     "output_type": "execute_result"
    }
   ],
   "source": [
    "type(newVariable)"
   ]
  },
  {
   "cell_type": "code",
   "execution_count": 32,
   "id": "31c8a636",
   "metadata": {},
   "outputs": [
    {
     "name": "stdout",
     "output_type": "stream",
     "text": [
      "None\n"
     ]
    }
   ],
   "source": [
    "print(newVariable)"
   ]
  },
  {
   "cell_type": "code",
   "execution_count": 33,
   "id": "ca5a6279",
   "metadata": {},
   "outputs": [],
   "source": [
    "def newsumm(num3,num4):\n",
    "    return num3+num4    ## return can return output"
   ]
  },
  {
   "cell_type": "code",
   "execution_count": 34,
   "id": "038584a2",
   "metadata": {},
   "outputs": [
    {
     "name": "stdout",
     "output_type": "stream",
     "text": [
      "30\n",
      "<class 'int'>\n"
     ]
    }
   ],
   "source": [
    "secondNewVar = newsumm(10,20)\n",
    "\n",
    "print(secondNewVar)\n",
    "\n",
    "print(type(secondNewVar))"
   ]
  },
  {
   "cell_type": "code",
   "execution_count": 1,
   "id": "132ba7aa",
   "metadata": {},
   "outputs": [],
   "source": [
    "def controlA(a):\n",
    "    if a >= 10:\n",
    "        return \"good\"\n",
    "    else:\n",
    "        return \"bad\""
   ]
  },
  {
   "cell_type": "code",
   "execution_count": 5,
   "id": "7febc04b",
   "metadata": {},
   "outputs": [
    {
     "name": "stdout",
     "output_type": "stream",
     "text": [
      "good\n",
      "bad\n"
     ]
    }
   ],
   "source": [
    "print(controlA(90))\n",
    "print(controlA(3))"
   ]
  },
  {
   "cell_type": "markdown",
   "id": "af8f44e6",
   "metadata": {},
   "source": [
    "# ARGUMENTS & KEY WORD ARGUMENTS"
   ]
  },
  {
   "cell_type": "code",
   "execution_count": 9,
   "id": "0554dd4c",
   "metadata": {},
   "outputs": [],
   "source": [
    "def neWsumM(*args):   ##you can put as many arguments in there as you want \n",
    "    return sum(args)"
   ]
  },
  {
   "cell_type": "code",
   "execution_count": 19,
   "id": "f8b3ac14",
   "metadata": {},
   "outputs": [
    {
     "name": "stdout",
     "output_type": "stream",
     "text": [
      "7610\n"
     ]
    },
    {
     "data": {
      "text/plain": [
       "int"
      ]
     },
     "execution_count": 19,
     "metadata": {},
     "output_type": "execute_result"
    }
   ],
   "source": [
    "print(neWsumM(10,2,54,7544))\n",
    "type(neWsumM(10,2,54,7544))"
   ]
  },
  {
   "cell_type": "code",
   "execution_count": 20,
   "id": "d5cfb22d",
   "metadata": {},
   "outputs": [
    {
     "data": {
      "text/plain": [
       "58"
      ]
     },
     "execution_count": 20,
     "metadata": {},
     "output_type": "execute_result"
    }
   ],
   "source": [
    "neWsumM(23,35)"
   ]
  },
  {
   "cell_type": "code",
   "execution_count": 23,
   "id": "1a348d19",
   "metadata": {},
   "outputs": [],
   "source": [
    "def examplE(**kwargs):  ## you can put as many dictionary members in there as you want with using this\n",
    "    return kwargs"
   ]
  },
  {
   "cell_type": "code",
   "execution_count": 24,
   "id": "4432dc85",
   "metadata": {},
   "outputs": [
    {
     "name": "stdout",
     "output_type": "stream",
     "text": [
      "{'banana': 100, 'apple': 125, 'melon': 90}\n"
     ]
    },
    {
     "data": {
      "text/plain": [
       "dict"
      ]
     },
     "execution_count": 24,
     "metadata": {},
     "output_type": "execute_result"
    }
   ],
   "source": [
    "print(examplE(banana=100 , apple=125 , melon=90))\n",
    "type(examplE(banana=100 , apple=125 , melon=90))"
   ]
  },
  {
   "cell_type": "code",
   "execution_count": null,
   "id": "f0b4570a",
   "metadata": {},
   "outputs": [],
   "source": []
  }
 ],
 "metadata": {
  "kernelspec": {
   "display_name": "Python 3 (ipykernel)",
   "language": "python",
   "name": "python3"
  },
  "language_info": {
   "codemirror_mode": {
    "name": "ipython",
    "version": 3
   },
   "file_extension": ".py",
   "mimetype": "text/x-python",
   "name": "python",
   "nbconvert_exporter": "python",
   "pygments_lexer": "ipython3",
   "version": "3.9.12"
  }
 },
 "nbformat": 4,
 "nbformat_minor": 5
}
