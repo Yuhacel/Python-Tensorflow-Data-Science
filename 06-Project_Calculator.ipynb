{
 "cells": [
  {
   "cell_type": "code",
   "execution_count": 18,
   "id": "8c64ad11",
   "metadata": {},
   "outputs": [],
   "source": [
    "def calculatorMain():\n",
    "    \n",
    "    a =int(input(\"enter first number :\"))\n",
    "        \n",
    "    b =int(input(\"enter second number :\"))\n",
    "        \n",
    "    c = input(\"enter the action between first and second numbers :\")\n",
    "    \n",
    "    \n",
    "    if c == \"+\":\n",
    "        n = a + b\n",
    "        return ( \" {} {} {} = {} \".format(a,c,b,n) )\n",
    "    elif c == \"-\":\n",
    "        n = a - b\n",
    "        return ( \" {} {} {} = {} \".format(a,c,b,n) )\n",
    "    elif c == \"*\":\n",
    "        n = a * b\n",
    "        return ( \" {} {} {} = {} \".format(a,c,b,n) )\n",
    "    elif c == \"/\":\n",
    "        n = a / b\n",
    "        return ( \" {} {} {} = {} \".format(a,c,b,n) )\n",
    "    else:\n",
    "        print(\"you need to enter '+,-,*,/' to proceed\")"
   ]
  },
  {
   "cell_type": "code",
   "execution_count": 19,
   "id": "2da8eb1f",
   "metadata": {},
   "outputs": [
    {
     "name": "stdout",
     "output_type": "stream",
     "text": [
      "enter first number :1\n",
      "enter second number :9\n",
      "enter the action between first and second numbers :/\n",
      " 1 / 9 = 0.1111111111111111 \n"
     ]
    }
   ],
   "source": [
    "print( calculatorMain() )"
   ]
  },
  {
   "cell_type": "code",
   "execution_count": 3,
   "id": "169b1c5a",
   "metadata": {},
   "outputs": [],
   "source": [
    "def onlyINTEGERCalculator():\n",
    "    a = int(input(\"enter first number as an integer :\"))\n",
    "    b = int(input(\"enter second number as an integer :\"))\n",
    "    c = input(\"enter the action between first and second numbers among '+,-,*,/' :\")\n",
    "    \n",
    "    if c == \"+\":\n",
    "        return a + b\n",
    "    elif c == \"-\":\n",
    "        return a - b\n",
    "    elif c == \"*\":\n",
    "        return a * b\n",
    "    elif c == \"/\":\n",
    "        return a / b\n",
    "    else:\n",
    "        print(\"you need to enter '+,-,*,/' to proceed\")"
   ]
  },
  {
   "cell_type": "code",
   "execution_count": 4,
   "id": "83ac8196",
   "metadata": {},
   "outputs": [
    {
     "name": "stdout",
     "output_type": "stream",
     "text": [
      "enter first number as an integer :2\n",
      "enter second number as an integer :3\n",
      "enter the action between first and second numbers among '+,-,*,/' :/\n"
     ]
    },
    {
     "data": {
      "text/plain": [
       "0.6666666666666666"
      ]
     },
     "execution_count": 4,
     "metadata": {},
     "output_type": "execute_result"
    }
   ],
   "source": [
    "onlyINTEGERCalculator()"
   ]
  },
  {
   "cell_type": "code",
   "execution_count": 5,
   "id": "c07574bb",
   "metadata": {},
   "outputs": [],
   "source": [
    "def onlyFLOATCalculator():\n",
    "    a = float(input(\"enter first number as a float :\"))\n",
    "    b = float(input(\"enter second number as a float :\"))\n",
    "    c = input(\"enter the action between first and second numbers among '+,-,*,/' :\")\n",
    "    \n",
    "    if c == \"+\":\n",
    "        return a + b\n",
    "    elif c == \"-\":\n",
    "        return a - b\n",
    "    elif c == \"*\":\n",
    "        return a * b\n",
    "    elif c == \"/\":\n",
    "        return a / b\n",
    "    else:\n",
    "        print(\"you need to enter '+,-,*,/' to proceed\")"
   ]
  },
  {
   "cell_type": "code",
   "execution_count": 6,
   "id": "37fa11d0",
   "metadata": {},
   "outputs": [
    {
     "name": "stdout",
     "output_type": "stream",
     "text": [
      "enter first number as a float :2.3\n",
      "enter second number as a float :1.2\n",
      "enter the action between first and second numbers among '+,-,*,/' :/\n"
     ]
    },
    {
     "data": {
      "text/plain": [
       "1.9166666666666665"
      ]
     },
     "execution_count": 6,
     "metadata": {},
     "output_type": "execute_result"
    }
   ],
   "source": [
    "onlyFLOATCalculator()"
   ]
  },
  {
   "cell_type": "code",
   "execution_count": 52,
   "id": "329ca0f6",
   "metadata": {},
   "outputs": [],
   "source": [
    "def calculatorWHILELOOP(): ## if we add \"AC\" button then it would be useful to use \"WHILE LOOP\"\n",
    "    a =int(input(\"enter first number :\"))\n",
    "    if type(a) != int or float:\n",
    "        print(\"first number must be an integer or float !\")\n",
    "        \n",
    "    b =int(input(\"enter second number :\"))\n",
    "    if type(b) != int or float:\n",
    "        print(\"second number must be an integer or float !\")\n",
    "        \n",
    "    c = input(\"enter the action between first and second numbers :\")\n",
    "    \n",
    "    \n",
    "    if c == \"+\":\n",
    "        n = a + b\n",
    "        print( \" {} {} {} = {} \".format(a,c,b,n) )\n",
    "    elif c == \"-\":\n",
    "        return a - b\n",
    "    elif c == \"*\":\n",
    "        return a * b\n",
    "    elif c == \"/\":\n",
    "        return a / b\n",
    "    else:\n",
    "        print(\"you need to enter '+,-,*,/' to proceed\")"
   ]
  },
  {
   "cell_type": "code",
   "execution_count": null,
   "id": "9d24fc11",
   "metadata": {},
   "outputs": [],
   "source": []
  },
  {
   "cell_type": "code",
   "execution_count": 22,
   "id": "ad46ad04",
   "metadata": {},
   "outputs": [],
   "source": [
    "def calculatorHANDLINGERRORS(): ## USE \"TRY\" & \"EXCEPT\" WITH \"WHILE LOOP\"\n",
    "    a =int(input(\"enter first number :\"))\n",
    "    if type(a) != int or float:\n",
    "        print(\"first number must be an integer or float !\")\n",
    "        \n",
    "    b =int(input(\"enter second number :\"))\n",
    "    if type(b) != int or float:\n",
    "        print(\"second number must be an integer or float !\")\n",
    "        \n",
    "    c = input(\"enter the action between first and second numbers :\")\n",
    "    \n",
    "    \n",
    "    if c == \"+\":\n",
    "        n = a + b\n",
    "        print( \" {} {} {} = {} \".format(a,c,b,n) )\n",
    "    elif c == \"-\":\n",
    "        return a - b\n",
    "    elif c == \"*\":\n",
    "        return a * b\n",
    "    elif c == \"/\":\n",
    "        return a / b\n",
    "    else:\n",
    "        print(\"you need to enter '+,-,*,/' to proceed\")"
   ]
  },
  {
   "cell_type": "code",
   "execution_count": 21,
   "id": "c64af899",
   "metadata": {},
   "outputs": [
    {
     "name": "stdout",
     "output_type": "stream",
     "text": [
      "enter first number :1\n",
      "first number must be an integer or float !\n",
      "enter second number :2\n",
      "second number must be an integer or float !\n",
      "enter the action between first and second numbers :+\n",
      " 1 + 2 = 3 \n"
     ]
    }
   ],
   "source": [
    "calculator_HANDLING_ERRORS()"
   ]
  },
  {
   "cell_type": "code",
   "execution_count": 1,
   "id": "ae628f93",
   "metadata": {},
   "outputs": [
    {
     "name": "stdout",
     "output_type": "stream",
     "text": [
      "1\n",
      "2\n",
      "3\n",
      "4\n",
      "5\n",
      "i is no longer less than 6\n"
     ]
    }
   ],
   "source": [
    "i = 1\n",
    "while i < 6:\n",
    "  print(i)\n",
    "  i += 1\n",
    "else:\n",
    "  print(\"i is no longer less than 6\")"
   ]
  },
  {
   "cell_type": "code",
   "execution_count": null,
   "id": "95b7f205",
   "metadata": {},
   "outputs": [],
   "source": []
  },
  {
   "cell_type": "code",
   "execution_count": null,
   "id": "4dc414c5",
   "metadata": {},
   "outputs": [],
   "source": []
  },
  {
   "cell_type": "code",
   "execution_count": null,
   "id": "19a7ce2a",
   "metadata": {},
   "outputs": [],
   "source": []
  }
 ],
 "metadata": {
  "kernelspec": {
   "display_name": "Python 3 (ipykernel)",
   "language": "python",
   "name": "python3"
  },
  "language_info": {
   "codemirror_mode": {
    "name": "ipython",
    "version": 3
   },
   "file_extension": ".py",
   "mimetype": "text/x-python",
   "name": "python",
   "nbconvert_exporter": "python",
   "pygments_lexer": "ipython3",
   "version": "3.9.12"
  }
 },
 "nbformat": 4,
 "nbformat_minor": 5
}
