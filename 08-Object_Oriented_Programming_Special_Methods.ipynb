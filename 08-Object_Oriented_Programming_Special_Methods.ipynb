{
 "cells": [
  {
   "cell_type": "markdown",
   "id": "b79015dc",
   "metadata": {},
   "source": [
    "## Special Methods"
   ]
  },
  {
   "cell_type": "markdown",
   "id": "352d7232",
   "metadata": {},
   "source": [
    "# SPECIAL METHODS"
   ]
  },
  {
   "cell_type": "code",
   "execution_count": 36,
   "id": "a1e993fa",
   "metadata": {},
   "outputs": [],
   "source": [
    "class Fruits():\n",
    "    def __init__(self,name,calori):\n",
    "        self.name = name\n",
    "        self.calori = calori\n",
    "        \n",
    "    def __str__(self): ## This helps us to print the name\n",
    "        return f\"{self.name} has {self.calori} calori\"\n",
    "    \n",
    "    def __len__(self): ## This helps us to print the calori\n",
    "        return self.calori"
   ]
  },
  {
   "cell_type": "code",
   "execution_count": 37,
   "id": "4e85f4b6",
   "metadata": {},
   "outputs": [],
   "source": [
    "apple = Fruits(\"apple\", 150)"
   ]
  },
  {
   "cell_type": "code",
   "execution_count": 26,
   "id": "28af1f40",
   "metadata": {},
   "outputs": [
    {
     "data": {
      "text/plain": [
       "__main__.Fruits"
      ]
     },
     "execution_count": 26,
     "metadata": {},
     "output_type": "execute_result"
    }
   ],
   "source": [
    "type(apple)"
   ]
  },
  {
   "cell_type": "code",
   "execution_count": 25,
   "id": "4ddf367a",
   "metadata": {},
   "outputs": [
    {
     "name": "stdout",
     "output_type": "stream",
     "text": [
      "<__main__.Fruits object at 0x000001D1167A0DC0>\n"
     ]
    }
   ],
   "source": [
    "print(apple)"
   ]
  },
  {
   "cell_type": "code",
   "execution_count": 34,
   "id": "062c8441",
   "metadata": {},
   "outputs": [
    {
     "name": "stdout",
     "output_type": "stream",
     "text": [
      "apple has 150 calori\n"
     ]
    }
   ],
   "source": [
    "print(apple)"
   ]
  },
  {
   "cell_type": "code",
   "execution_count": 35,
   "id": "e8b68e18",
   "metadata": {},
   "outputs": [
    {
     "data": {
      "text/plain": [
       "150"
      ]
     },
     "execution_count": 35,
     "metadata": {},
     "output_type": "execute_result"
    }
   ],
   "source": [
    "len(apple)"
   ]
  },
  {
   "cell_type": "code",
   "execution_count": null,
   "id": "e6e90598",
   "metadata": {},
   "outputs": [],
   "source": []
  }
 ],
 "metadata": {
  "kernelspec": {
   "display_name": "Python 3 (ipykernel)",
   "language": "python",
   "name": "python3"
  },
  "language_info": {
   "codemirror_mode": {
    "name": "ipython",
    "version": 3
   },
   "file_extension": ".py",
   "mimetype": "text/x-python",
   "name": "python",
   "nbconvert_exporter": "python",
   "pygments_lexer": "ipython3",
   "version": "3.9.12"
  }
 },
 "nbformat": 4,
 "nbformat_minor": 5
}
