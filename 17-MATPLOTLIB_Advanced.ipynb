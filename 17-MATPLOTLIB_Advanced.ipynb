{
 "cells": [
  {
   "cell_type": "code",
   "execution_count": 9,
   "id": "8a0f9375",
   "metadata": {},
   "outputs": [],
   "source": [
    "import numpy as np\n",
    "import matplotlib.pyplot as plt \n",
    "%matplotlib inline"
   ]
  },
  {
   "cell_type": "code",
   "execution_count": 10,
   "id": "ca71f0c2",
   "metadata": {},
   "outputs": [
    {
     "data": {
      "text/plain": [
       "array([ 0.        ,  0.52631579,  1.05263158,  1.57894737,  2.10526316,\n",
       "        2.63157895,  3.15789474,  3.68421053,  4.21052632,  4.73684211,\n",
       "        5.26315789,  5.78947368,  6.31578947,  6.84210526,  7.36842105,\n",
       "        7.89473684,  8.42105263,  8.94736842,  9.47368421, 10.        ])"
      ]
     },
     "execution_count": 10,
     "metadata": {},
     "output_type": "execute_result"
    }
   ],
   "source": [
    "numpySeries1 = np.linspace(0,10,20)\n",
    "numpySeries1"
   ]
  },
  {
   "cell_type": "code",
   "execution_count": 11,
   "id": "5b9a2265",
   "metadata": {},
   "outputs": [
    {
     "data": {
      "text/plain": [
       "array([  0.        ,   0.27700831,   1.10803324,   2.49307479,\n",
       "         4.43213296,   6.92520776,   9.97229917,  13.5734072 ,\n",
       "        17.72853186,  22.43767313,  27.70083102,  33.51800554,\n",
       "        39.88919668,  46.81440443,  54.29362881,  62.32686981,\n",
       "        70.91412742,  80.05540166,  89.75069252, 100.        ])"
      ]
     },
     "execution_count": 11,
     "metadata": {},
     "output_type": "execute_result"
    }
   ],
   "source": [
    "numpySeries2 = numpySeries1 ** 2\n",
    "numpySeries2"
   ]
  },
  {
   "cell_type": "code",
   "execution_count": 40,
   "id": "2e02f421",
   "metadata": {
    "scrolled": true
   },
   "outputs": [
    {
     "data": {
      "text/plain": [
       "[<matplotlib.lines.Line2D at 0x1cd9ed17ac0>]"
      ]
     },
     "execution_count": 40,
     "metadata": {},
     "output_type": "execute_result"
    },
    {
     "data": {
      "image/png": "[encoded data removed]",
      "text/plain": [
       "<Figure size 432x288 with 1 Axes>"
      ]
     },
     "metadata": {
      "needs_background": "light"
     },
     "output_type": "display_data"
    }
   ],
   "source": [
    "(myFigure, myAxes) = plt.subplots()\n",
    "\n",
    "myAxes.plot(numpySeries1, numpySeries2, color=\"#C96F23\", linewidth = 5.0, linestyle = \"-.\")\n",
    "myAxes.plot(numpySeries2, numpySeries1, color=\"#3A95A8\", linestyle = \"--\", marker=\"o\", markersize=4, markerfacecolor=\"r\")\n",
    "myAxes.plot(numpySeries1, numpySeries1 * 3, linestyle = \":\")"
   ]
  },
  {
   "cell_type": "markdown",
   "id": "ee98b599",
   "metadata": {},
   "source": [
    "# SCATTER"
   ]
  },
  {
   "cell_type": "code",
   "execution_count": 41,
   "id": "391647fa",
   "metadata": {},
   "outputs": [
    {
     "data": {
      "text/plain": [
       "<matplotlib.collections.PathCollection at 0x1cd9ed58370>"
      ]
     },
     "execution_count": 41,
     "metadata": {},
     "output_type": "execute_result"
    },
    {
     "data": {
      "image/png": "[encoded data removed]",
      "text/plain": [
       "<Figure size 432x288 with 1 Axes>"
      ]
     },
     "metadata": {
      "needs_background": "light"
     },
     "output_type": "display_data"
    }
   ],
   "source": [
    "plt.scatter(numpySeries1,numpySeries2)"
   ]
  },
  {
   "cell_type": "markdown",
   "id": "ae567d85",
   "metadata": {},
   "source": [
    "# HISTOGRAM"
   ]
  },
  {
   "cell_type": "code",
   "execution_count": 46,
   "id": "522f6903",
   "metadata": {},
   "outputs": [
    {
     "data": {
      "text/plain": [
       "array([51, 59, 97, 99, 55, 12, 33, 71, 15, 59, 99, 60, 77, 77, 61, 27, 99,\n",
       "       95, 67, 44])"
      ]
     },
     "execution_count": 46,
     "metadata": {},
     "output_type": "execute_result"
    }
   ],
   "source": [
    "newSeeries = np.random.randint(0,100,20)\n",
    "newSeeries"
   ]
  },
  {
   "cell_type": "code",
   "execution_count": 47,
   "id": "68f1b6a4",
   "metadata": {},
   "outputs": [
    {
     "data": {
      "text/plain": [
       "(array([2., 1., 1., 1., 2., 4., 2., 2., 0., 5.]),\n",
       " array([12. , 20.7, 29.4, 38.1, 46.8, 55.5, 64.2, 72.9, 81.6, 90.3, 99. ]),\n",
       " <BarContainer object of 10 artists>)"
      ]
     },
     "execution_count": 47,
     "metadata": {},
     "output_type": "execute_result"
    },
    {
     "data": {
      "image/png": "[encoded data removed]",
      "text/plain": [
       "<Figure size 432x288 with 1 Axes>"
      ]
     },
     "metadata": {
      "needs_background": "light"
     },
     "output_type": "display_data"
    }
   ],
   "source": [
    "plt.hist(newSeeries)"
   ]
  },
  {
   "cell_type": "markdown",
   "id": "9120ad61",
   "metadata": {},
   "source": [
    "# BOXPLOT"
   ]
  },
  {
   "cell_type": "code",
   "execution_count": 48,
   "id": "c2aa187c",
   "metadata": {},
   "outputs": [
    {
     "data": {
      "text/plain": [
       "{'whiskers': [<matplotlib.lines.Line2D at 0x1cd9ef487c0>,\n",
       "  <matplotlib.lines.Line2D at 0x1cd9ef48a90>],\n",
       " 'caps': [<matplotlib.lines.Line2D at 0x1cd9ef48d60>,\n",
       "  <matplotlib.lines.Line2D at 0x1cd9ef57070>],\n",
       " 'boxes': [<matplotlib.lines.Line2D at 0x1cd9ef48610>],\n",
       " 'medians': [<matplotlib.lines.Line2D at 0x1cd9ef57340>],\n",
       " 'fliers': [<matplotlib.lines.Line2D at 0x1cd9ef57610>],\n",
       " 'means': []}"
      ]
     },
     "execution_count": 48,
     "metadata": {},
     "output_type": "execute_result"
    },
    {
     "data": {
      "image/png": "[encoded data removed]",
      "text/plain": [
       "<Figure size 432x288 with 1 Axes>"
      ]
     },
     "metadata": {
      "needs_background": "light"
     },
     "output_type": "display_data"
    }
   ],
   "source": [
    "plt.boxplot(newSeeries)"
   ]
  },
  {
   "cell_type": "code",
   "execution_count": 49,
   "id": "eb87dca0",
   "metadata": {},
   "outputs": [
    {
     "data": {
      "text/plain": [
       "{'whiskers': [<matplotlib.lines.Line2D at 0x1cd9ef8fcd0>,\n",
       "  <matplotlib.lines.Line2D at 0x1cd9ef8ffa0>],\n",
       " 'caps': [<matplotlib.lines.Line2D at 0x1cd9ef9f2b0>,\n",
       "  <matplotlib.lines.Line2D at 0x1cd9ef9f580>],\n",
       " 'boxes': [<matplotlib.lines.Line2D at 0x1cd9ef8fb20>],\n",
       " 'medians': [<matplotlib.lines.Line2D at 0x1cd9ef9f850>],\n",
       " 'fliers': [<matplotlib.lines.Line2D at 0x1cd9ef9fb20>],\n",
       " 'means': []}"
      ]
     },
     "execution_count": 49,
     "metadata": {},
     "output_type": "execute_result"
    },
    {
     "data": {
      "image/png": "[encoded data removed]",
      "text/plain": [
       "<Figure size 432x288 with 1 Axes>"
      ]
     },
     "metadata": {
      "needs_background": "light"
     },
     "output_type": "display_data"
    }
   ],
   "source": [
    "plt.boxplot(newSeeries * 2)"
   ]
  },
  {
   "cell_type": "code",
   "execution_count": null,
   "id": "6e025b10",
   "metadata": {},
   "outputs": [],
   "source": []
  }
 ],
 "metadata": {
  "kernelspec": {
   "display_name": "Python 3 (ipykernel)",
   "language": "python",
   "name": "python3"
  },
  "language_info": {
   "codemirror_mode": {
    "name": "ipython",
    "version": 3
   },
   "file_extension": ".py",
   "mimetype": "text/x-python",
   "name": "python",
   "nbconvert_exporter": "python",
   "pygments_lexer": "ipython3",
   "version": "3.9.12"
  }
 },
 "nbformat": 4,
 "nbformat_minor": 5
}
